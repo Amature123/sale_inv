{
 "cells": [
  {
   "cell_type": "code",
   "execution_count": 5,
   "id": "a4e4d494",
   "metadata": {},
   "outputs": [],
   "source": [
    "import pandas as pd\n",
    "import seaborn as sns\n",
    "import matplotlib.pyplot as plt\n",
    "import numpy as np\n",
    "from sklearn.impute import SimpleImputer\n",
    "from sklearn.model_selection import train_test_split"
   ]
  },
  {
   "cell_type": "code",
   "execution_count": 6,
   "id": "0d495cae",
   "metadata": {},
   "outputs": [],
   "source": [
    "path='/Users/thanhtainguyen/Desktop/sale_and_inv/InventoryAndSale_snapshot_data/Sales_snapshot_data/all_data.xlsx'"
   ]
  },
  {
   "cell_type": "code",
   "execution_count": 35,
   "id": "96ebbef1",
   "metadata": {},
   "outputs": [
    {
     "name": "stdout",
     "output_type": "stream",
     "text": [
      "['1', '2', '3', '4', '5', '6', '7', '8', '9', '10', '11', '12']\n"
     ]
    }
   ],
   "source": [
    "sale=pd.ExcelFile(path)\n",
    "sales=sale.sheet_names\n",
    "print(sales)"
   ]
  },
  {
   "cell_type": "code",
   "execution_count": 8,
   "id": "f1684f35",
   "metadata": {},
   "outputs": [
    {
     "name": "stdout",
     "output_type": "stream",
     "text": [
      "<class 'pandas.core.frame.DataFrame'>\n",
      "Int64Index: 578987 entries, 0 to 60223\n",
      "Data columns (total 13 columns):\n",
      " #   Column                     Non-Null Count   Dtype \n",
      "---  ------                     --------------   ----- \n",
      " 0   month                      578987 non-null  int64 \n",
      " 1   week                       578987 non-null  int64 \n",
      " 2   site                       578987 non-null  int64 \n",
      " 3   branch_id                  578987 non-null  int64 \n",
      " 4   channel_id                 578987 non-null  object\n",
      " 5   distribution_channel       578987 non-null  object\n",
      " 6   distribution_channel_code  578987 non-null  object\n",
      " 7   sold_quantity              578987 non-null  int64 \n",
      " 8   cost_price                 578987 non-null  int64 \n",
      " 9   net_price                  578987 non-null  int64 \n",
      " 10  customer_id                578986 non-null  object\n",
      " 11  product_id                 578987 non-null  object\n",
      " 12  Month                      578987 non-null  object\n",
      "dtypes: int64(7), object(6)\n",
      "memory usage: 61.8+ MB\n"
     ]
    }
   ],
   "source": [
    "lists=[]\n",
    "for exchange in sales:\n",
    "    liste = pd.read_excel(sale, sheet_name=exchange, na_values='n/a')\n",
    "    liste['Month'] = exchange\n",
    "    lists.append(liste)\n",
    "# Concatenate the listss: lists_data\n",
    "lists_data = pd.concat(lists)\n",
    "\n",
    "# Inspect the results\n",
    "lists_data.info()"
   ]
  },
  {
   "cell_type": "code",
   "execution_count": 49,
   "id": "0c302940",
   "metadata": {},
   "outputs": [
    {
     "data": {
      "text/html": [
       "<div>\n",
       "<style scoped>\n",
       "    .dataframe tbody tr th:only-of-type {\n",
       "        vertical-align: middle;\n",
       "    }\n",
       "\n",
       "    .dataframe tbody tr th {\n",
       "        vertical-align: top;\n",
       "    }\n",
       "\n",
       "    .dataframe thead th {\n",
       "        text-align: right;\n",
       "    }\n",
       "</style>\n",
       "<table border=\"1\" class=\"dataframe\">\n",
       "  <thead>\n",
       "    <tr style=\"text-align: right;\">\n",
       "      <th></th>\n",
       "      <th>month</th>\n",
       "      <th>week</th>\n",
       "      <th>site</th>\n",
       "      <th>branch_id</th>\n",
       "      <th>channel_id</th>\n",
       "      <th>distribution_channel</th>\n",
       "      <th>distribution_channel_code</th>\n",
       "      <th>sold_quantity</th>\n",
       "      <th>cost_price</th>\n",
       "      <th>net_price</th>\n",
       "      <th>customer_id</th>\n",
       "      <th>product_id</th>\n",
       "      <th>Month</th>\n",
       "    </tr>\n",
       "  </thead>\n",
       "  <tbody>\n",
       "    <tr>\n",
       "      <th>27671</th>\n",
       "      <td>2022006</td>\n",
       "      <td>202225</td>\n",
       "      <td>1258</td>\n",
       "      <td>1200</td>\n",
       "      <td>CHTT</td>\n",
       "      <td>Bán lẻ</td>\n",
       "      <td>FP</td>\n",
       "      <td>3</td>\n",
       "      <td>70104</td>\n",
       "      <td>102000</td>\n",
       "      <td>d61e36c2c</td>\n",
       "      <td>1ea0959caf0f49fa898bb495de35e536XAM25</td>\n",
       "      <td>6</td>\n",
       "    </tr>\n",
       "    <tr>\n",
       "      <th>14715</th>\n",
       "      <td>2022003</td>\n",
       "      <td>202212</td>\n",
       "      <td>1237</td>\n",
       "      <td>1200</td>\n",
       "      <td>CHTT</td>\n",
       "      <td>Bán lẻ</td>\n",
       "      <td>FP</td>\n",
       "      <td>1</td>\n",
       "      <td>200291</td>\n",
       "      <td>295000</td>\n",
       "      <td>04f4a71cb</td>\n",
       "      <td>ce37c8c392f14826be6e3fdd53d30805KEM38</td>\n",
       "      <td>3</td>\n",
       "    </tr>\n",
       "    <tr>\n",
       "      <th>34010</th>\n",
       "      <td>2022009</td>\n",
       "      <td>202238</td>\n",
       "      <td>1165</td>\n",
       "      <td>1100</td>\n",
       "      <td>CHTT</td>\n",
       "      <td>Bán lẻ</td>\n",
       "      <td>FP</td>\n",
       "      <td>1</td>\n",
       "      <td>206967</td>\n",
       "      <td>304000</td>\n",
       "      <td>8d8a4d58d</td>\n",
       "      <td>2abe7f669ba743a89518c428a20c78f0XDG34</td>\n",
       "      <td>9</td>\n",
       "    </tr>\n",
       "    <tr>\n",
       "      <th>39670</th>\n",
       "      <td>2022001</td>\n",
       "      <td>202204</td>\n",
       "      <td>1124</td>\n",
       "      <td>1100</td>\n",
       "      <td>CHTT</td>\n",
       "      <td>Bán lẻ</td>\n",
       "      <td>FP</td>\n",
       "      <td>1</td>\n",
       "      <td>51680</td>\n",
       "      <td>76000</td>\n",
       "      <td>af943870d</td>\n",
       "      <td>31d6cf314c8b4f26985fffc2f7afab9aXAM31</td>\n",
       "      <td>1</td>\n",
       "    </tr>\n",
       "    <tr>\n",
       "      <th>22629</th>\n",
       "      <td>2022004</td>\n",
       "      <td>202216</td>\n",
       "      <td>1119</td>\n",
       "      <td>1100</td>\n",
       "      <td>CHTT</td>\n",
       "      <td>Bán lẻ</td>\n",
       "      <td>FP</td>\n",
       "      <td>1</td>\n",
       "      <td>80116</td>\n",
       "      <td>118000</td>\n",
       "      <td>f426464a2</td>\n",
       "      <td>28b22f9eeef24ebdab2d56448a730b71XAM30</td>\n",
       "      <td>4</td>\n",
       "    </tr>\n",
       "  </tbody>\n",
       "</table>\n",
       "</div>"
      ],
      "text/plain": [
       "         month    week  site  branch_id channel_id distribution_channel  \\\n",
       "27671  2022006  202225  1258       1200       CHTT               Bán lẻ   \n",
       "14715  2022003  202212  1237       1200       CHTT               Bán lẻ   \n",
       "34010  2022009  202238  1165       1100       CHTT               Bán lẻ   \n",
       "39670  2022001  202204  1124       1100       CHTT               Bán lẻ   \n",
       "22629  2022004  202216  1119       1100       CHTT               Bán lẻ   \n",
       "\n",
       "      distribution_channel_code  sold_quantity  cost_price  net_price  \\\n",
       "27671                        FP              3       70104     102000   \n",
       "14715                        FP              1      200291     295000   \n",
       "34010                        FP              1      206967     304000   \n",
       "39670                        FP              1       51680      76000   \n",
       "22629                        FP              1       80116     118000   \n",
       "\n",
       "      customer_id                             product_id Month  \n",
       "27671   d61e36c2c  1ea0959caf0f49fa898bb495de35e536XAM25     6  \n",
       "14715   04f4a71cb  ce37c8c392f14826be6e3fdd53d30805KEM38     3  \n",
       "34010   8d8a4d58d  2abe7f669ba743a89518c428a20c78f0XDG34     9  \n",
       "39670   af943870d  31d6cf314c8b4f26985fffc2f7afab9aXAM31     1  \n",
       "22629   f426464a2  28b22f9eeef24ebdab2d56448a730b71XAM30     4  "
      ]
     },
     "execution_count": 49,
     "metadata": {},
     "output_type": "execute_result"
    }
   ],
   "source": [
    "train_sale_set , test_sale_set = train_test_split(lists_data,test_size=0.4,random_state=42)\n",
    "train_sale_set.head()"
   ]
  },
  {
   "cell_type": "code",
   "execution_count": 50,
   "id": "fe3d1fc8",
   "metadata": {},
   "outputs": [
    {
     "name": "stdout",
     "output_type": "stream",
     "text": [
      "<class 'pandas.core.frame.DataFrame'>\n",
      "Int64Index: 347392 entries, 27671 to 2741\n",
      "Data columns (total 13 columns):\n",
      " #   Column                     Non-Null Count   Dtype \n",
      "---  ------                     --------------   ----- \n",
      " 0   month                      347392 non-null  int64 \n",
      " 1   week                       347392 non-null  int64 \n",
      " 2   site                       347392 non-null  int64 \n",
      " 3   branch_id                  347392 non-null  int64 \n",
      " 4   channel_id                 347392 non-null  object\n",
      " 5   distribution_channel       347392 non-null  object\n",
      " 6   distribution_channel_code  347392 non-null  object\n",
      " 7   sold_quantity              347392 non-null  int64 \n",
      " 8   cost_price                 347392 non-null  int64 \n",
      " 9   net_price                  347392 non-null  int64 \n",
      " 10  customer_id                347392 non-null  object\n",
      " 11  product_id                 347392 non-null  object\n",
      " 12  Month                      347392 non-null  object\n",
      "dtypes: int64(7), object(6)\n",
      "memory usage: 37.1+ MB\n"
     ]
    }
   ],
   "source": [
    "train_sale_set.info()"
   ]
  },
  {
   "cell_type": "code",
   "execution_count": 51,
   "id": "6b116e71",
   "metadata": {},
   "outputs": [
    {
     "data": {
      "text/plain": [
       "27671    25\n",
       "14715    12\n",
       "34010    38\n",
       "39670     4\n",
       "22629    16\n",
       "Name: week, dtype: int64"
      ]
     },
     "execution_count": 51,
     "metadata": {},
     "output_type": "execute_result"
    }
   ],
   "source": [
    "train_sale_set['week']=train_sale_set['week'].apply(lambda x : abs(x - 202200))\n",
    "train_sale_set['month']=train_sale_set['month'].apply(lambda x : abs(x - 2022000))\n",
    "train_sale_set['week'].head()"
   ]
  },
  {
   "cell_type": "code",
   "execution_count": 52,
   "id": "da0ffaa2",
   "metadata": {},
   "outputs": [
    {
     "name": "stdout",
     "output_type": "stream",
     "text": [
      "<class 'pandas.core.frame.DataFrame'>\n",
      "Int64Index: 347392 entries, 27671 to 2741\n",
      "Data columns (total 13 columns):\n",
      " #   Column                     Non-Null Count   Dtype   \n",
      "---  ------                     --------------   -----   \n",
      " 0   month                      347392 non-null  category\n",
      " 1   week                       347392 non-null  category\n",
      " 2   site                       347392 non-null  category\n",
      " 3   branch_id                  347392 non-null  category\n",
      " 4   channel_id                 347392 non-null  category\n",
      " 5   distribution_channel       347392 non-null  category\n",
      " 6   distribution_channel_code  347392 non-null  category\n",
      " 7   sold_quantity              347392 non-null  int64   \n",
      " 8   cost_price                 347392 non-null  int64   \n",
      " 9   net_price                  347392 non-null  int64   \n",
      " 10  customer_id                347392 non-null  object  \n",
      " 11  product_id                 347392 non-null  object  \n",
      " 12  Month                      347392 non-null  object  \n",
      "dtypes: category(7), int64(3), object(3)\n",
      "memory usage: 21.2+ MB\n"
     ]
    }
   ],
   "source": [
    "features=['month','week','site','branch_id','channel_id','distribution_channel','distribution_channel_code']\n",
    "def convert(df,columns):\n",
    "    for column in columns :\n",
    "        df[column]=df[column].astype('category')\n",
    "convert(train_sale_set,features)\n",
    "train_sale_set.info()"
   ]
  },
  {
   "cell_type": "code",
   "execution_count": 53,
   "id": "41093029",
   "metadata": {},
   "outputs": [
    {
     "data": {
      "text/html": [
       "<div>\n",
       "<style scoped>\n",
       "    .dataframe tbody tr th:only-of-type {\n",
       "        vertical-align: middle;\n",
       "    }\n",
       "\n",
       "    .dataframe tbody tr th {\n",
       "        vertical-align: top;\n",
       "    }\n",
       "\n",
       "    .dataframe thead th {\n",
       "        text-align: right;\n",
       "    }\n",
       "</style>\n",
       "<table border=\"1\" class=\"dataframe\">\n",
       "  <thead>\n",
       "    <tr style=\"text-align: right;\">\n",
       "      <th></th>\n",
       "      <th>branch_id</th>\n",
       "    </tr>\n",
       "  </thead>\n",
       "  <tbody>\n",
       "    <tr>\n",
       "      <th>1100</th>\n",
       "      <td>168485</td>\n",
       "    </tr>\n",
       "    <tr>\n",
       "      <th>1200</th>\n",
       "      <td>71322</td>\n",
       "    </tr>\n",
       "    <tr>\n",
       "      <th>1500</th>\n",
       "      <td>41764</td>\n",
       "    </tr>\n",
       "    <tr>\n",
       "      <th>1600</th>\n",
       "      <td>36714</td>\n",
       "    </tr>\n",
       "    <tr>\n",
       "      <th>1800</th>\n",
       "      <td>14910</td>\n",
       "    </tr>\n",
       "    <tr>\n",
       "      <th>1400</th>\n",
       "      <td>11803</td>\n",
       "    </tr>\n",
       "    <tr>\n",
       "      <th>2000</th>\n",
       "      <td>1688</td>\n",
       "    </tr>\n",
       "    <tr>\n",
       "      <th>1300</th>\n",
       "      <td>706</td>\n",
       "    </tr>\n",
       "  </tbody>\n",
       "</table>\n",
       "</div>"
      ],
      "text/plain": [
       "      branch_id\n",
       "1100     168485\n",
       "1200      71322\n",
       "1500      41764\n",
       "1600      36714\n",
       "1800      14910\n",
       "1400      11803\n",
       "2000       1688\n",
       "1300        706"
      ]
     },
     "execution_count": 53,
     "metadata": {},
     "output_type": "execute_result"
    }
   ],
   "source": [
    "train_sale_set['branch_id'].value_counts().to_frame()"
   ]
  },
  {
   "cell_type": "code",
   "execution_count": 54,
   "id": "c5a607dd",
   "metadata": {},
   "outputs": [
    {
     "data": {
      "text/html": [
       "<div>\n",
       "<style scoped>\n",
       "    .dataframe tbody tr th:only-of-type {\n",
       "        vertical-align: middle;\n",
       "    }\n",
       "\n",
       "    .dataframe tbody tr th {\n",
       "        vertical-align: top;\n",
       "    }\n",
       "\n",
       "    .dataframe thead th {\n",
       "        text-align: right;\n",
       "    }\n",
       "</style>\n",
       "<table border=\"1\" class=\"dataframe\">\n",
       "  <thead>\n",
       "    <tr style=\"text-align: right;\">\n",
       "      <th></th>\n",
       "      <th>distribution_channel</th>\n",
       "    </tr>\n",
       "  </thead>\n",
       "  <tbody>\n",
       "    <tr>\n",
       "      <th>Bán lẻ</th>\n",
       "      <td>259039</td>\n",
       "    </tr>\n",
       "    <tr>\n",
       "      <th>Hợp đồng</th>\n",
       "      <td>33206</td>\n",
       "    </tr>\n",
       "    <tr>\n",
       "      <th>Phát sinh</th>\n",
       "      <td>31826</td>\n",
       "    </tr>\n",
       "    <tr>\n",
       "      <th>Online</th>\n",
       "      <td>10332</td>\n",
       "    </tr>\n",
       "    <tr>\n",
       "      <th>Siêu thị</th>\n",
       "      <td>8063</td>\n",
       "    </tr>\n",
       "    <tr>\n",
       "      <th>Bán sỉ</th>\n",
       "      <td>3855</td>\n",
       "    </tr>\n",
       "    <tr>\n",
       "      <th>-</th>\n",
       "      <td>1071</td>\n",
       "    </tr>\n",
       "  </tbody>\n",
       "</table>\n",
       "</div>"
      ],
      "text/plain": [
       "           distribution_channel\n",
       "Bán lẻ                   259039\n",
       "Hợp đồng                  33206\n",
       "Phát sinh                 31826\n",
       "Online                    10332\n",
       "Siêu thị                   8063\n",
       "Bán sỉ                     3855\n",
       "-                          1071"
      ]
     },
     "execution_count": 54,
     "metadata": {},
     "output_type": "execute_result"
    }
   ],
   "source": [
    "train_sale_set['distribution_channel'].value_counts().to_frame()"
   ]
  },
  {
   "cell_type": "markdown",
   "id": "856ac639",
   "metadata": {},
   "source": [
    "### as we can see , there are missing value wwith symbol ' - ' so we could replicate it with most frequency value in the distribution_channel column by using sklearn.imputer.SimplyImputer  "
   ]
  },
  {
   "cell_type": "code",
   "execution_count": 55,
   "id": "3a277ddb",
   "metadata": {},
   "outputs": [],
   "source": [
    "imputer=SimpleImputer(missing_values = np.nan,strategy=\"most_frequent\")"
   ]
  },
  {
   "cell_type": "code",
   "execution_count": 56,
   "id": "a836d4c4",
   "metadata": {},
   "outputs": [
    {
     "data": {
      "text/html": [
       "<div>\n",
       "<style scoped>\n",
       "    .dataframe tbody tr th:only-of-type {\n",
       "        vertical-align: middle;\n",
       "    }\n",
       "\n",
       "    .dataframe tbody tr th {\n",
       "        vertical-align: top;\n",
       "    }\n",
       "\n",
       "    .dataframe thead th {\n",
       "        text-align: right;\n",
       "    }\n",
       "</style>\n",
       "<table border=\"1\" class=\"dataframe\">\n",
       "  <thead>\n",
       "    <tr style=\"text-align: right;\">\n",
       "      <th></th>\n",
       "      <th>distribution_channel</th>\n",
       "    </tr>\n",
       "  </thead>\n",
       "  <tbody>\n",
       "    <tr>\n",
       "      <th>Bán lẻ</th>\n",
       "      <td>260110</td>\n",
       "    </tr>\n",
       "    <tr>\n",
       "      <th>Hợp đồng</th>\n",
       "      <td>33206</td>\n",
       "    </tr>\n",
       "    <tr>\n",
       "      <th>Phát sinh</th>\n",
       "      <td>31826</td>\n",
       "    </tr>\n",
       "    <tr>\n",
       "      <th>Online</th>\n",
       "      <td>10332</td>\n",
       "    </tr>\n",
       "    <tr>\n",
       "      <th>Siêu thị</th>\n",
       "      <td>8063</td>\n",
       "    </tr>\n",
       "    <tr>\n",
       "      <th>Bán sỉ</th>\n",
       "      <td>3855</td>\n",
       "    </tr>\n",
       "  </tbody>\n",
       "</table>\n",
       "</div>"
      ],
      "text/plain": [
       "           distribution_channel\n",
       "Bán lẻ                   260110\n",
       "Hợp đồng                  33206\n",
       "Phát sinh                 31826\n",
       "Online                    10332\n",
       "Siêu thị                   8063\n",
       "Bán sỉ                     3855"
      ]
     },
     "execution_count": 56,
     "metadata": {},
     "output_type": "execute_result"
    }
   ],
   "source": [
    "train_sale_set['distribution_channel']=train_sale_set['distribution_channel'].replace({\"-\": np.nan})\n",
    "train_sale_set['distribution_channel']=imputer.fit_transform(train_sale_set[['distribution_channel']]).ravel()\n",
    "train_sale_set['distribution_channel'].value_counts().to_frame()"
   ]
  },
  {
   "cell_type": "code",
   "execution_count": 57,
   "id": "0933a7d6",
   "metadata": {},
   "outputs": [
    {
     "data": {
      "text/html": [
       "<div>\n",
       "<style scoped>\n",
       "    .dataframe tbody tr th:only-of-type {\n",
       "        vertical-align: middle;\n",
       "    }\n",
       "\n",
       "    .dataframe tbody tr th {\n",
       "        vertical-align: top;\n",
       "    }\n",
       "\n",
       "    .dataframe thead th {\n",
       "        text-align: right;\n",
       "    }\n",
       "</style>\n",
       "<table border=\"1\" class=\"dataframe\">\n",
       "  <thead>\n",
       "    <tr style=\"text-align: right;\">\n",
       "      <th></th>\n",
       "      <th>distribution_channel_code</th>\n",
       "    </tr>\n",
       "  </thead>\n",
       "  <tbody>\n",
       "    <tr>\n",
       "      <th>FP</th>\n",
       "      <td>267032</td>\n",
       "    </tr>\n",
       "    <tr>\n",
       "      <th>ZF2</th>\n",
       "      <td>36362</td>\n",
       "    </tr>\n",
       "    <tr>\n",
       "      <th>ZF1</th>\n",
       "      <td>34170</td>\n",
       "    </tr>\n",
       "    <tr>\n",
       "      <th>ZFK</th>\n",
       "      <td>6902</td>\n",
       "    </tr>\n",
       "    <tr>\n",
       "      <th>ZSF</th>\n",
       "      <td>1018</td>\n",
       "    </tr>\n",
       "    <tr>\n",
       "      <th>ZF3</th>\n",
       "      <td>947</td>\n",
       "    </tr>\n",
       "    <tr>\n",
       "      <th>ZRD</th>\n",
       "      <td>488</td>\n",
       "    </tr>\n",
       "    <tr>\n",
       "      <th>ZF4</th>\n",
       "      <td>473</td>\n",
       "    </tr>\n",
       "  </tbody>\n",
       "</table>\n",
       "</div>"
      ],
      "text/plain": [
       "     distribution_channel_code\n",
       "FP                      267032\n",
       "ZF2                      36362\n",
       "ZF1                      34170\n",
       "ZFK                       6902\n",
       "ZSF                       1018\n",
       "ZF3                        947\n",
       "ZRD                        488\n",
       "ZF4                        473"
      ]
     },
     "execution_count": 57,
     "metadata": {},
     "output_type": "execute_result"
    }
   ],
   "source": [
    "train_sale_set.distribution_channel_code.value_counts().to_frame()"
   ]
  },
  {
   "cell_type": "code",
   "execution_count": 58,
   "id": "c96e9605",
   "metadata": {},
   "outputs": [
    {
     "data": {
      "text/html": [
       "<div>\n",
       "<style scoped>\n",
       "    .dataframe tbody tr th:only-of-type {\n",
       "        vertical-align: middle;\n",
       "    }\n",
       "\n",
       "    .dataframe tbody tr th {\n",
       "        vertical-align: top;\n",
       "    }\n",
       "\n",
       "    .dataframe thead th {\n",
       "        text-align: right;\n",
       "    }\n",
       "</style>\n",
       "<table border=\"1\" class=\"dataframe\">\n",
       "  <thead>\n",
       "    <tr style=\"text-align: right;\">\n",
       "      <th></th>\n",
       "      <th>sold_quantity</th>\n",
       "      <th>cost_price</th>\n",
       "      <th>net_price</th>\n",
       "    </tr>\n",
       "  </thead>\n",
       "  <tbody>\n",
       "    <tr>\n",
       "      <th>count</th>\n",
       "      <td>347392.000000</td>\n",
       "      <td>3.473920e+05</td>\n",
       "      <td>3.473920e+05</td>\n",
       "    </tr>\n",
       "    <tr>\n",
       "      <th>mean</th>\n",
       "      <td>1.395864</td>\n",
       "      <td>3.021302e+05</td>\n",
       "      <td>3.945433e+05</td>\n",
       "    </tr>\n",
       "    <tr>\n",
       "      <th>std</th>\n",
       "      <td>3.028410</td>\n",
       "      <td>6.216898e+05</td>\n",
       "      <td>7.049928e+05</td>\n",
       "    </tr>\n",
       "    <tr>\n",
       "      <th>min</th>\n",
       "      <td>-12.000000</td>\n",
       "      <td>-9.846300e+06</td>\n",
       "      <td>-1.073606e+07</td>\n",
       "    </tr>\n",
       "    <tr>\n",
       "      <th>25%</th>\n",
       "      <td>1.000000</td>\n",
       "      <td>1.168360e+05</td>\n",
       "      <td>1.570000e+05</td>\n",
       "    </tr>\n",
       "    <tr>\n",
       "      <th>50%</th>\n",
       "      <td>1.000000</td>\n",
       "      <td>2.015000e+05</td>\n",
       "      <td>2.850000e+05</td>\n",
       "    </tr>\n",
       "    <tr>\n",
       "      <th>75%</th>\n",
       "      <td>1.000000</td>\n",
       "      <td>3.204660e+05</td>\n",
       "      <td>4.570000e+05</td>\n",
       "    </tr>\n",
       "    <tr>\n",
       "      <th>max</th>\n",
       "      <td>400.000000</td>\n",
       "      <td>6.082435e+07</td>\n",
       "      <td>7.424144e+07</td>\n",
       "    </tr>\n",
       "  </tbody>\n",
       "</table>\n",
       "</div>"
      ],
      "text/plain": [
       "       sold_quantity    cost_price     net_price\n",
       "count  347392.000000  3.473920e+05  3.473920e+05\n",
       "mean        1.395864  3.021302e+05  3.945433e+05\n",
       "std         3.028410  6.216898e+05  7.049928e+05\n",
       "min       -12.000000 -9.846300e+06 -1.073606e+07\n",
       "25%         1.000000  1.168360e+05  1.570000e+05\n",
       "50%         1.000000  2.015000e+05  2.850000e+05\n",
       "75%         1.000000  3.204660e+05  4.570000e+05\n",
       "max       400.000000  6.082435e+07  7.424144e+07"
      ]
     },
     "execution_count": 58,
     "metadata": {},
     "output_type": "execute_result"
    }
   ],
   "source": [
    "train_sale_set.describe()"
   ]
  },
  {
   "cell_type": "code",
   "execution_count": 59,
   "id": "38e6f78f",
   "metadata": {},
   "outputs": [
    {
     "data": {
      "text/html": [
       "<div>\n",
       "<style scoped>\n",
       "    .dataframe tbody tr th:only-of-type {\n",
       "        vertical-align: middle;\n",
       "    }\n",
       "\n",
       "    .dataframe tbody tr th {\n",
       "        vertical-align: top;\n",
       "    }\n",
       "\n",
       "    .dataframe thead th {\n",
       "        text-align: right;\n",
       "    }\n",
       "</style>\n",
       "<table border=\"1\" class=\"dataframe\">\n",
       "  <thead>\n",
       "    <tr style=\"text-align: right;\">\n",
       "      <th></th>\n",
       "      <th>month</th>\n",
       "    </tr>\n",
       "  </thead>\n",
       "  <tbody>\n",
       "    <tr>\n",
       "      <th>1</th>\n",
       "      <td>49167</td>\n",
       "    </tr>\n",
       "    <tr>\n",
       "      <th>8</th>\n",
       "      <td>38986</td>\n",
       "    </tr>\n",
       "    <tr>\n",
       "      <th>12</th>\n",
       "      <td>36021</td>\n",
       "    </tr>\n",
       "    <tr>\n",
       "      <th>7</th>\n",
       "      <td>33142</td>\n",
       "    </tr>\n",
       "    <tr>\n",
       "      <th>11</th>\n",
       "      <td>29911</td>\n",
       "    </tr>\n",
       "    <tr>\n",
       "      <th>4</th>\n",
       "      <td>29343</td>\n",
       "    </tr>\n",
       "    <tr>\n",
       "      <th>6</th>\n",
       "      <td>23131</td>\n",
       "    </tr>\n",
       "    <tr>\n",
       "      <th>9</th>\n",
       "      <td>22963</td>\n",
       "    </tr>\n",
       "    <tr>\n",
       "      <th>2</th>\n",
       "      <td>22530</td>\n",
       "    </tr>\n",
       "    <tr>\n",
       "      <th>5</th>\n",
       "      <td>22488</td>\n",
       "    </tr>\n",
       "    <tr>\n",
       "      <th>10</th>\n",
       "      <td>22090</td>\n",
       "    </tr>\n",
       "    <tr>\n",
       "      <th>3</th>\n",
       "      <td>17620</td>\n",
       "    </tr>\n",
       "  </tbody>\n",
       "</table>\n",
       "</div>"
      ],
      "text/plain": [
       "    month\n",
       "1   49167\n",
       "8   38986\n",
       "12  36021\n",
       "7   33142\n",
       "11  29911\n",
       "4   29343\n",
       "6   23131\n",
       "9   22963\n",
       "2   22530\n",
       "5   22488\n",
       "10  22090\n",
       "3   17620"
      ]
     },
     "execution_count": 59,
     "metadata": {},
     "output_type": "execute_result"
    }
   ],
   "source": [
    "train_sale_set.month.value_counts().to_frame()"
   ]
  },
  {
   "cell_type": "code",
   "execution_count": 60,
   "id": "56bb2ff5",
   "metadata": {},
   "outputs": [
    {
     "data": {
      "text/plain": [
       "10352     1\n",
       "75669     1\n",
       "44455     1\n",
       "58629     1\n",
       "48711     1\n",
       "         ..\n",
       "58669    12\n",
       "36646    12\n",
       "51420    12\n",
       "45785    12\n",
       "32016    12\n",
       "Name: month, Length: 347392, dtype: category\n",
       "Categories (12, int64): [1, 2, 3, 4, ..., 9, 10, 11, 12]"
      ]
     },
     "execution_count": 60,
     "metadata": {},
     "output_type": "execute_result"
    }
   ],
   "source": [
    "train_sale_set['month'].sort_values()"
   ]
  },
  {
   "cell_type": "code",
   "execution_count": 68,
   "id": "f51c84ea",
   "metadata": {},
   "outputs": [
    {
     "data": {
      "image/png": "[encoded data removed]",
      "text/plain": [
       "<Figure size 720x720 with 3 Axes>"
      ]
     },
     "metadata": {
      "needs_background": "light"
     },
     "output_type": "display_data"
    }
   ],
   "source": [
    "fig , ax = plt.subplots(1,3,figsize=(1,10))\n",
    "cols=['sold_quantity','cost_price','net_price']\n",
    "for i in range(0,3):\n",
    "    if i < len(cols):\n",
    "        ax_i=ax[i]\n",
    "        sns.brplot(data=train_sale_set,x='month',y=cols[i],estimator=sum,ax=ax_i)\n",
    "        ax_i.set_title(f\"Fingure {i+1} : month and {cols[i]}\")\n",
    "plt.tight_layout()\n",
    "plt.show()"
   ]
  },
  {
   "cell_type": "code",
   "execution_count": 73,
   "id": "f18d18ea",
   "metadata": {},
   "outputs": [
    {
     "data": {
      "image/png": "[encoded data removed]",
      "text/plain": [
       "<Figure size 864x864 with 4 Axes>"
      ]
     },
     "metadata": {
      "needs_background": "light"
     },
     "output_type": "display_data"
    }
   ],
   "source": [
    "fig1 , ax1 = plt.subplots(2,2,figsize=(12,12))\n",
    "iduntknow=['distribution_channel','distribution_channel_code','branch_id','channel_id']\n",
    "for j in range(0,2):\n",
    "    for c in range(0,2):\n",
    "        i=j*2+c\n",
    "        if i < len(iduntknow):\n",
    "            ax_i=ax1[j,c]\n",
    "            sns.countplot(data=train_sale_set,x=iduntknow[i],palette='Blues',ax=ax_i)\n",
    "            ax_i.set_title(f\"Fingure {i+1} : {iduntknow[i]}\")\n",
    "plt.tight_layout()\n",
    "plt.show()"
   ]
  },
  {
   "cell_type": "markdown",
   "id": "00fa32f4",
   "metadata": {},
   "source": [
    "### Follow the figure , we could see that \n",
    "#### Customer love to buy stuffe that sell single\n",
    "#### ...."
   ]
  },
  {
   "cell_type": "markdown",
   "id": "40f0e670",
   "metadata": {},
   "source": []
  }
 ],
 "metadata": {
  "kernelspec": {
   "display_name": "Python 3 (ipykernel)",
   "language": "python",
   "name": "python3"
  },
  "language_info": {
   "codemirror_mode": {
    "name": "ipython",
    "version": 3
   },
   "file_extension": ".py",
   "mimetype": "text/x-python",
   "name": "python",
   "nbconvert_exporter": "python",
   "pygments_lexer": "ipython3",
   "version": "3.9.12"
  }
 },
 "nbformat": 4,
 "nbformat_minor": 5
}
