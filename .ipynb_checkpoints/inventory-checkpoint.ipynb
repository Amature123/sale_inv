{
 "cells": [
  {
   "cell_type": "code",
   "execution_count": 2,
   "id": "939312cf",
   "metadata": {},
   "outputs": [],
   "source": [
    "import pandas as pd\n",
    "import seaborn as sns\n",
    "import matplotlib.pyplot as plt\n",
    "import numpy as np\n",
    "from sklearn.impute import SimpleImputer\n",
    "from sklearn.model_selection import train_test_split"
   ]
  },
  {
   "cell_type": "code",
   "execution_count": 124,
   "id": "2b3d4124",
   "metadata": {},
   "outputs": [],
   "source": [
    "path='/Users/thanhtainguyen/Desktop/Untitled Folder 1/InventoryAndSale_snapshot_data/Inventory_snapshot_data/Inventory_2022.xlsx'"
   ]
  },
  {
   "cell_type": "markdown",
   "id": "e9cf1dbf",
   "metadata": {},
   "source": [
    "Get all the shits"
   ]
  },
  {
   "cell_type": "code",
   "execution_count": 125,
   "id": "2c3212fa",
   "metadata": {},
   "outputs": [
    {
     "name": "stdout",
     "output_type": "stream",
     "text": [
      "['31-01', '28-02', '31-03', '30-04', '31-05', '30-06', '31-07', '31-08', '30-09', '31-10', '30-11', '31-12', 'Sheet1']\n"
     ]
    }
   ],
   "source": [
    "inventory=pd.ExcelFile(path)\n",
    "inventories=inventory.sheet_names\n",
    "print(inventories)"
   ]
  },
  {
   "cell_type": "code",
   "execution_count": 126,
   "id": "2d1d5b41",
   "metadata": {},
   "outputs": [
    {
     "name": "stdout",
     "output_type": "stream",
     "text": [
      "<class 'pandas.core.frame.DataFrame'>\n",
      "Int64Index: 1367080 entries, 0 to 50109\n",
      "Data columns (total 10 columns):\n",
      " #   Column              Non-Null Count    Dtype  \n",
      "---  ------              --------------    -----  \n",
      " 0   Unnamed: 0          1367080 non-null  float64\n",
      " 1   index               1367080 non-null  float64\n",
      " 2   plant               1367080 non-null  float64\n",
      " 3   calendar_year       1367080 non-null  float64\n",
      " 4   calendar_yeer_week  1367080 non-null  float64\n",
      " 5   sloc                1367080 non-null  object \n",
      " 6   quantity            1367080 non-null  float64\n",
      " 7   total_amount        1367080 non-null  float64\n",
      " 8   product_id          1367080 non-null  object \n",
      " 9   Exchange            1367080 non-null  object \n",
      "dtypes: float64(7), object(3)\n",
      "memory usage: 114.7+ MB\n"
     ]
    }
   ],
   "source": [
    "listings=[]\n",
    "for exchange in inventories:\n",
    "    listing = pd.read_excel(inventory, sheet_name=exchange, na_values='n/a')\n",
    "    listing['Exchange'] = exchange\n",
    "    listings.append(listing)\n",
    "# Concatenate the listings: listing_data\n",
    "listing_data = pd.concat(listings)\n",
    "\n",
    "# Inspect the results\n",
    "listing_data.info()\n"
   ]
  },
  {
   "cell_type": "code",
   "execution_count": 127,
   "id": "0893dab8",
   "metadata": {},
   "outputs": [
    {
     "data": {
      "text/plain": [
       "Index(['Unnamed: 0', 'index', 'plant', 'calendar_year', 'calendar_yeer_week',\n",
       "       'sloc', 'quantity', 'total_amount', 'product_id', 'Exchange'],\n",
       "      dtype='object')"
      ]
     },
     "execution_count": 127,
     "metadata": {},
     "output_type": "execute_result"
    }
   ],
   "source": [
    "listing_data.columns"
   ]
  },
  {
   "cell_type": "code",
   "execution_count": 128,
   "id": "7acbcbbe",
   "metadata": {},
   "outputs": [
    {
     "data": {
      "text/html": [
       "<div>\n",
       "<style scoped>\n",
       "    .dataframe tbody tr th:only-of-type {\n",
       "        vertical-align: middle;\n",
       "    }\n",
       "\n",
       "    .dataframe tbody tr th {\n",
       "        vertical-align: top;\n",
       "    }\n",
       "\n",
       "    .dataframe thead th {\n",
       "        text-align: right;\n",
       "    }\n",
       "</style>\n",
       "<table border=\"1\" class=\"dataframe\">\n",
       "  <thead>\n",
       "    <tr style=\"text-align: right;\">\n",
       "      <th></th>\n",
       "      <th>plant</th>\n",
       "      <th>calendar_year</th>\n",
       "      <th>calendar_yeer_week</th>\n",
       "      <th>sloc</th>\n",
       "      <th>quantity</th>\n",
       "      <th>total_amount</th>\n",
       "      <th>product_id</th>\n",
       "      <th>Exchange</th>\n",
       "    </tr>\n",
       "  </thead>\n",
       "  <tbody>\n",
       "    <tr>\n",
       "      <th>0</th>\n",
       "      <td>1201.0</td>\n",
       "      <td>2022.0</td>\n",
       "      <td>20220131.0</td>\n",
       "      <td>3000</td>\n",
       "      <td>19.0</td>\n",
       "      <td>0.0</td>\n",
       "      <td>1259098aaa8e447181f13903f84e5db1OOO35</td>\n",
       "      <td>31-01</td>\n",
       "    </tr>\n",
       "    <tr>\n",
       "      <th>1</th>\n",
       "      <td>1201.0</td>\n",
       "      <td>2022.0</td>\n",
       "      <td>20220131.0</td>\n",
       "      <td>3000</td>\n",
       "      <td>41.0</td>\n",
       "      <td>0.0</td>\n",
       "      <td>39b38616e4d649ab9c3b7d04e82e079fOOO36</td>\n",
       "      <td>31-01</td>\n",
       "    </tr>\n",
       "    <tr>\n",
       "      <th>2</th>\n",
       "      <td>1201.0</td>\n",
       "      <td>2022.0</td>\n",
       "      <td>20220131.0</td>\n",
       "      <td>3000</td>\n",
       "      <td>96.0</td>\n",
       "      <td>0.0</td>\n",
       "      <td>8db14e88898e40a392f80ed69c30e206OOO37</td>\n",
       "      <td>31-01</td>\n",
       "    </tr>\n",
       "    <tr>\n",
       "      <th>3</th>\n",
       "      <td>1201.0</td>\n",
       "      <td>2022.0</td>\n",
       "      <td>20220131.0</td>\n",
       "      <td>3000</td>\n",
       "      <td>89.0</td>\n",
       "      <td>0.0</td>\n",
       "      <td>7c15de90afd343338f93c8f65a0d8380OOO38</td>\n",
       "      <td>31-01</td>\n",
       "    </tr>\n",
       "    <tr>\n",
       "      <th>4</th>\n",
       "      <td>1201.0</td>\n",
       "      <td>2022.0</td>\n",
       "      <td>20220131.0</td>\n",
       "      <td>3000</td>\n",
       "      <td>104.0</td>\n",
       "      <td>0.0</td>\n",
       "      <td>6c04a173aec34690b242ed4e09367e96OOO39</td>\n",
       "      <td>31-01</td>\n",
       "    </tr>\n",
       "  </tbody>\n",
       "</table>\n",
       "</div>"
      ],
      "text/plain": [
       "    plant  calendar_year  calendar_yeer_week  sloc  quantity  total_amount  \\\n",
       "0  1201.0         2022.0          20220131.0  3000      19.0           0.0   \n",
       "1  1201.0         2022.0          20220131.0  3000      41.0           0.0   \n",
       "2  1201.0         2022.0          20220131.0  3000      96.0           0.0   \n",
       "3  1201.0         2022.0          20220131.0  3000      89.0           0.0   \n",
       "4  1201.0         2022.0          20220131.0  3000     104.0           0.0   \n",
       "\n",
       "                              product_id Exchange  \n",
       "0  1259098aaa8e447181f13903f84e5db1OOO35    31-01  \n",
       "1  39b38616e4d649ab9c3b7d04e82e079fOOO36    31-01  \n",
       "2  8db14e88898e40a392f80ed69c30e206OOO37    31-01  \n",
       "3  7c15de90afd343338f93c8f65a0d8380OOO38    31-01  \n",
       "4  6c04a173aec34690b242ed4e09367e96OOO39    31-01  "
      ]
     },
     "execution_count": 128,
     "metadata": {},
     "output_type": "execute_result"
    }
   ],
   "source": [
    "listing_data.drop(['Unnamed: 0','index'],axis=1,inplace=True)\n",
    "listing_data.head()"
   ]
  },
  {
   "cell_type": "code",
   "execution_count": 129,
   "id": "61abc1d7",
   "metadata": {},
   "outputs": [
    {
     "data": {
      "text/html": [
       "<div>\n",
       "<style scoped>\n",
       "    .dataframe tbody tr th:only-of-type {\n",
       "        vertical-align: middle;\n",
       "    }\n",
       "\n",
       "    .dataframe tbody tr th {\n",
       "        vertical-align: top;\n",
       "    }\n",
       "\n",
       "    .dataframe thead th {\n",
       "        text-align: right;\n",
       "    }\n",
       "</style>\n",
       "<table border=\"1\" class=\"dataframe\">\n",
       "  <thead>\n",
       "    <tr style=\"text-align: right;\">\n",
       "      <th></th>\n",
       "      <th>quantity</th>\n",
       "      <th>total_amount</th>\n",
       "    </tr>\n",
       "  </thead>\n",
       "  <tbody>\n",
       "    <tr>\n",
       "      <th>count</th>\n",
       "      <td>1.367080e+06</td>\n",
       "      <td>1.367080e+06</td>\n",
       "    </tr>\n",
       "    <tr>\n",
       "      <th>mean</th>\n",
       "      <td>1.648231e+00</td>\n",
       "      <td>5.965435e+04</td>\n",
       "    </tr>\n",
       "    <tr>\n",
       "      <th>std</th>\n",
       "      <td>2.120860e+00</td>\n",
       "      <td>5.191182e+05</td>\n",
       "    </tr>\n",
       "    <tr>\n",
       "      <th>min</th>\n",
       "      <td>0.000000e+00</td>\n",
       "      <td>-2.689808e+07</td>\n",
       "    </tr>\n",
       "    <tr>\n",
       "      <th>25%</th>\n",
       "      <td>1.000000e+00</td>\n",
       "      <td>0.000000e+00</td>\n",
       "    </tr>\n",
       "    <tr>\n",
       "      <th>50%</th>\n",
       "      <td>1.000000e+00</td>\n",
       "      <td>0.000000e+00</td>\n",
       "    </tr>\n",
       "    <tr>\n",
       "      <th>75%</th>\n",
       "      <td>2.000000e+00</td>\n",
       "      <td>0.000000e+00</td>\n",
       "    </tr>\n",
       "    <tr>\n",
       "      <th>max</th>\n",
       "      <td>2.000000e+02</td>\n",
       "      <td>5.198730e+07</td>\n",
       "    </tr>\n",
       "  </tbody>\n",
       "</table>\n",
       "</div>"
      ],
      "text/plain": [
       "           quantity  total_amount\n",
       "count  1.367080e+06  1.367080e+06\n",
       "mean   1.648231e+00  5.965435e+04\n",
       "std    2.120860e+00  5.191182e+05\n",
       "min    0.000000e+00 -2.689808e+07\n",
       "25%    1.000000e+00  0.000000e+00\n",
       "50%    1.000000e+00  0.000000e+00\n",
       "75%    2.000000e+00  0.000000e+00\n",
       "max    2.000000e+02  5.198730e+07"
      ]
     },
     "execution_count": 129,
     "metadata": {},
     "output_type": "execute_result"
    }
   ],
   "source": [
    "listing_data[['quantity','total_amount']].describe()"
   ]
  },
  {
   "cell_type": "code",
   "execution_count": 130,
   "id": "71bd7003",
   "metadata": {},
   "outputs": [
    {
     "data": {
      "text/html": [
       "<div>\n",
       "<style scoped>\n",
       "    .dataframe tbody tr th:only-of-type {\n",
       "        vertical-align: middle;\n",
       "    }\n",
       "\n",
       "    .dataframe tbody tr th {\n",
       "        vertical-align: top;\n",
       "    }\n",
       "\n",
       "    .dataframe thead th {\n",
       "        text-align: right;\n",
       "    }\n",
       "</style>\n",
       "<table border=\"1\" class=\"dataframe\">\n",
       "  <thead>\n",
       "    <tr style=\"text-align: right;\">\n",
       "      <th></th>\n",
       "      <th>plant</th>\n",
       "      <th>calendar_year</th>\n",
       "      <th>calendar_yeer_week</th>\n",
       "      <th>sloc</th>\n",
       "      <th>quantity</th>\n",
       "      <th>total_amount</th>\n",
       "      <th>product_id</th>\n",
       "      <th>Exchange</th>\n",
       "    </tr>\n",
       "  </thead>\n",
       "  <tbody>\n",
       "    <tr>\n",
       "      <th>0</th>\n",
       "      <td>1201.0</td>\n",
       "      <td>2022.0</td>\n",
       "      <td>2022-01-31</td>\n",
       "      <td>3000</td>\n",
       "      <td>19.0</td>\n",
       "      <td>0.0</td>\n",
       "      <td>1259098aaa8e447181f13903f84e5db1OOO35</td>\n",
       "      <td>31-01</td>\n",
       "    </tr>\n",
       "    <tr>\n",
       "      <th>1</th>\n",
       "      <td>1201.0</td>\n",
       "      <td>2022.0</td>\n",
       "      <td>2022-01-31</td>\n",
       "      <td>3000</td>\n",
       "      <td>41.0</td>\n",
       "      <td>0.0</td>\n",
       "      <td>39b38616e4d649ab9c3b7d04e82e079fOOO36</td>\n",
       "      <td>31-01</td>\n",
       "    </tr>\n",
       "    <tr>\n",
       "      <th>2</th>\n",
       "      <td>1201.0</td>\n",
       "      <td>2022.0</td>\n",
       "      <td>2022-01-31</td>\n",
       "      <td>3000</td>\n",
       "      <td>96.0</td>\n",
       "      <td>0.0</td>\n",
       "      <td>8db14e88898e40a392f80ed69c30e206OOO37</td>\n",
       "      <td>31-01</td>\n",
       "    </tr>\n",
       "    <tr>\n",
       "      <th>3</th>\n",
       "      <td>1201.0</td>\n",
       "      <td>2022.0</td>\n",
       "      <td>2022-01-31</td>\n",
       "      <td>3000</td>\n",
       "      <td>89.0</td>\n",
       "      <td>0.0</td>\n",
       "      <td>7c15de90afd343338f93c8f65a0d8380OOO38</td>\n",
       "      <td>31-01</td>\n",
       "    </tr>\n",
       "    <tr>\n",
       "      <th>4</th>\n",
       "      <td>1201.0</td>\n",
       "      <td>2022.0</td>\n",
       "      <td>2022-01-31</td>\n",
       "      <td>3000</td>\n",
       "      <td>104.0</td>\n",
       "      <td>0.0</td>\n",
       "      <td>6c04a173aec34690b242ed4e09367e96OOO39</td>\n",
       "      <td>31-01</td>\n",
       "    </tr>\n",
       "  </tbody>\n",
       "</table>\n",
       "</div>"
      ],
      "text/plain": [
       "    plant  calendar_year calendar_yeer_week  sloc  quantity  total_amount  \\\n",
       "0  1201.0         2022.0         2022-01-31  3000      19.0           0.0   \n",
       "1  1201.0         2022.0         2022-01-31  3000      41.0           0.0   \n",
       "2  1201.0         2022.0         2022-01-31  3000      96.0           0.0   \n",
       "3  1201.0         2022.0         2022-01-31  3000      89.0           0.0   \n",
       "4  1201.0         2022.0         2022-01-31  3000     104.0           0.0   \n",
       "\n",
       "                              product_id Exchange  \n",
       "0  1259098aaa8e447181f13903f84e5db1OOO35    31-01  \n",
       "1  39b38616e4d649ab9c3b7d04e82e079fOOO36    31-01  \n",
       "2  8db14e88898e40a392f80ed69c30e206OOO37    31-01  \n",
       "3  7c15de90afd343338f93c8f65a0d8380OOO38    31-01  \n",
       "4  6c04a173aec34690b242ed4e09367e96OOO39    31-01  "
      ]
     },
     "execution_count": 130,
     "metadata": {},
     "output_type": "execute_result"
    }
   ],
   "source": [
    "listing_data['calendar_yeer_week']=pd.to_datetime(listing_data['calendar_yeer_week'],format='%Y%m%d')\n",
    "listing_data.head()"
   ]
  },
  {
   "cell_type": "markdown",
   "id": "b865c394",
   "metadata": {},
   "source": [
    "#### the sloc column cotains 2 data types is string and integer so must convert it into 1 type \n",
    "#### also we must fullfill the data because it has # ,by using imputer"
   ]
  },
  {
   "cell_type": "code",
   "execution_count": 131,
   "id": "c8584af1",
   "metadata": {},
   "outputs": [],
   "source": [
    "imputer=SimpleImputer(missing_values = np.nan,strategy=\"most_frequent\")"
   ]
  },
  {
   "cell_type": "code",
   "execution_count": 132,
   "id": "ff32a608",
   "metadata": {},
   "outputs": [
    {
     "data": {
      "text/plain": [
       "3000    1366115\n",
       "9999        947\n",
       "3007         18\n",
       "Name: sloc, dtype: int64"
      ]
     },
     "execution_count": 132,
     "metadata": {},
     "output_type": "execute_result"
    }
   ],
   "source": [
    "listing_data['sloc']=listing_data['sloc'].replace({\"#\": np.nan})\n",
    "listing_data['sloc']=imputer.fit_transform(listing_data[['sloc']]).ravel()\n",
    "listing_data['sloc']=listing_data['sloc'].apply(int)\n",
    "listing_data['sloc'].unique()\n",
    "listing_data['sloc'].value_counts()"
   ]
  },
  {
   "cell_type": "code",
   "execution_count": 133,
   "id": "8bdce0ba",
   "metadata": {},
   "outputs": [
    {
     "name": "stdout",
     "output_type": "stream",
     "text": [
      "<class 'pandas.core.frame.DataFrame'>\n",
      "Int64Index: 1367080 entries, 0 to 50109\n",
      "Data columns (total 8 columns):\n",
      " #   Column              Non-Null Count    Dtype         \n",
      "---  ------              --------------    -----         \n",
      " 0   plant               1367080 non-null  category      \n",
      " 1   calendar_year       1367080 non-null  category      \n",
      " 2   calendar_yeer_week  1367080 non-null  datetime64[ns]\n",
      " 3   sloc                1367080 non-null  category      \n",
      " 4   quantity            1367080 non-null  float64       \n",
      " 5   total_amount        1367080 non-null  float64       \n",
      " 6   product_id          1367080 non-null  object        \n",
      " 7   Exchange            1367080 non-null  object        \n",
      "dtypes: category(3), datetime64[ns](1), float64(2), object(2)\n",
      "memory usage: 66.5+ MB\n"
     ]
    }
   ],
   "source": [
    "feature=['plant','calendar_year','sloc']\n",
    "def convert(df,columns):\n",
    "    for column in columns :\n",
    "        df[column]=df[column].astype('category')\n",
    "convert(listing_data,feature)\n",
    "listing_data.info()"
   ]
  },
  {
   "cell_type": "code",
   "execution_count": 134,
   "id": "bad4cbad",
   "metadata": {},
   "outputs": [
    {
     "data": {
      "text/plain": [
       "0"
      ]
     },
     "execution_count": 134,
     "metadata": {},
     "output_type": "execute_result"
    }
   ],
   "source": [
    "listing_data['total_amount'].isna().sum()"
   ]
  },
  {
   "cell_type": "markdown",
   "id": "1506a516",
   "metadata": {},
   "source": [
    "#### total_amount is fullfill"
   ]
  },
  {
   "cell_type": "code",
   "execution_count": 135,
   "id": "13ed108b",
   "metadata": {},
   "outputs": [
    {
     "name": "stdout",
     "output_type": "stream",
     "text": [
      "26280\n"
     ]
    }
   ],
   "source": [
    "print(len(listing_data['product_id'].unique()))"
   ]
  },
  {
   "cell_type": "markdown",
   "id": "478d1d61",
   "metadata": {},
   "source": [
    "#### there are 26280 products in the inventory"
   ]
  },
  {
   "cell_type": "code",
   "execution_count": 136,
   "id": "2bde0f04",
   "metadata": {},
   "outputs": [
    {
     "name": "stdout",
     "output_type": "stream",
     "text": [
      "there are 2253264 products in the inventory\n",
      "these cost 81552273459 VND\n"
     ]
    }
   ],
   "source": [
    "print(\"there are %.0f products in the inventory\" % listing_data['quantity'].sum())\n",
    "print(\"these cost %.0f VND\" % listing_data['total_amount'].sum())"
   ]
  },
  {
   "cell_type": "code",
   "execution_count": 137,
   "id": "6cdd5646",
   "metadata": {},
   "outputs": [
    {
     "name": "stdout",
     "output_type": "stream",
     "text": [
      "quantity        0.0\n",
      "total_amount    0.0\n",
      "dtype: float64\n"
     ]
    }
   ],
   "source": [
    "check_negative=listing_data[listing_data['quantity']<0]\n",
    "print(check_negative.sum(numeric_only=True))"
   ]
  },
  {
   "cell_type": "markdown",
   "id": "53a357bf",
   "metadata": {},
   "source": [
    "### there are no negative in stock value"
   ]
  },
  {
   "cell_type": "code",
   "execution_count": 150,
   "id": "aa977d54",
   "metadata": {},
   "outputs": [],
   "source": [
    "train_set , test_set = train_test_split(listing_data,test_size=0.4,random_state=42)\n"
   ]
  },
  {
   "cell_type": "code",
   "execution_count": 157,
   "id": "1d3da75d",
   "metadata": {},
   "outputs": [
    {
     "data": {
      "text/html": [
       "<div>\n",
       "<style scoped>\n",
       "    .dataframe tbody tr th:only-of-type {\n",
       "        vertical-align: middle;\n",
       "    }\n",
       "\n",
       "    .dataframe tbody tr th {\n",
       "        vertical-align: top;\n",
       "    }\n",
       "\n",
       "    .dataframe thead th {\n",
       "        text-align: right;\n",
       "    }\n",
       "</style>\n",
       "<table border=\"1\" class=\"dataframe\">\n",
       "  <thead>\n",
       "    <tr style=\"text-align: right;\">\n",
       "      <th></th>\n",
       "      <th>plant</th>\n",
       "      <th>calendar_year</th>\n",
       "      <th>calendar_yeer_week</th>\n",
       "      <th>sloc</th>\n",
       "      <th>quantity</th>\n",
       "      <th>total_amount</th>\n",
       "      <th>product_id</th>\n",
       "      <th>Exchange</th>\n",
       "    </tr>\n",
       "  </thead>\n",
       "  <tbody>\n",
       "    <tr>\n",
       "      <th>13659</th>\n",
       "      <td>1202.0</td>\n",
       "      <td>2022.0</td>\n",
       "      <td>2022-01-31</td>\n",
       "      <td>3000</td>\n",
       "      <td>1.0</td>\n",
       "      <td>0.0</td>\n",
       "      <td>7ae5884353114beb95178b2162659558HOG30</td>\n",
       "      <td>31-01</td>\n",
       "    </tr>\n",
       "    <tr>\n",
       "      <th>7311</th>\n",
       "      <td>1201.0</td>\n",
       "      <td>2022.0</td>\n",
       "      <td>2022-01-31</td>\n",
       "      <td>3000</td>\n",
       "      <td>2.0</td>\n",
       "      <td>0.0</td>\n",
       "      <td>475db8befa6244968f0519b5d81a1863NAD40</td>\n",
       "      <td>31-01</td>\n",
       "    </tr>\n",
       "    <tr>\n",
       "      <th>49855</th>\n",
       "      <td>1207.0</td>\n",
       "      <td>2022.0</td>\n",
       "      <td>2022-01-31</td>\n",
       "      <td>3000</td>\n",
       "      <td>2.0</td>\n",
       "      <td>0.0</td>\n",
       "      <td>38f7f4c8951a486594eca15177cd55d7NAU41</td>\n",
       "      <td>31-01</td>\n",
       "    </tr>\n",
       "    <tr>\n",
       "      <th>66164</th>\n",
       "      <td>1209.0</td>\n",
       "      <td>2022.0</td>\n",
       "      <td>2022-01-31</td>\n",
       "      <td>3000</td>\n",
       "      <td>1.0</td>\n",
       "      <td>0.0</td>\n",
       "      <td>34b8b25112424492aa99a0cacc53ac9fDEN25</td>\n",
       "      <td>31-01</td>\n",
       "    </tr>\n",
       "    <tr>\n",
       "      <th>15381</th>\n",
       "      <td>1202.0</td>\n",
       "      <td>2022.0</td>\n",
       "      <td>2022-01-31</td>\n",
       "      <td>3000</td>\n",
       "      <td>1.0</td>\n",
       "      <td>0.0</td>\n",
       "      <td>86cb80b6507c48f099b7b10f0a148c17DOO28</td>\n",
       "      <td>31-01</td>\n",
       "    </tr>\n",
       "  </tbody>\n",
       "</table>\n",
       "</div>"
      ],
      "text/plain": [
       "        plant calendar_year calendar_yeer_week  sloc  quantity  total_amount  \\\n",
       "13659  1202.0        2022.0         2022-01-31  3000       1.0           0.0   \n",
       "7311   1201.0        2022.0         2022-01-31  3000       2.0           0.0   \n",
       "49855  1207.0        2022.0         2022-01-31  3000       2.0           0.0   \n",
       "66164  1209.0        2022.0         2022-01-31  3000       1.0           0.0   \n",
       "15381  1202.0        2022.0         2022-01-31  3000       1.0           0.0   \n",
       "\n",
       "                                  product_id Exchange  \n",
       "13659  7ae5884353114beb95178b2162659558HOG30    31-01  \n",
       "7311   475db8befa6244968f0519b5d81a1863NAD40    31-01  \n",
       "49855  38f7f4c8951a486594eca15177cd55d7NAU41    31-01  \n",
       "66164  34b8b25112424492aa99a0cacc53ac9fDEN25    31-01  \n",
       "15381  86cb80b6507c48f099b7b10f0a148c17DOO28    31-01  "
      ]
     },
     "execution_count": 157,
     "metadata": {},
     "output_type": "execute_result"
    }
   ],
   "source": [
    "train_set.sort_values(by='calendar_yeer_week',ascending=True,inplace=True)\n",
    "train_set.head()"
   ]
  },
  {
   "cell_type": "code",
   "execution_count": 158,
   "id": "c7ead09d",
   "metadata": {},
   "outputs": [
    {
     "data": {
      "image/png": "[encoded data removed]",
      "text/plain": [
       "<Figure size 1440x1440 with 1 Axes>"
      ]
     },
     "metadata": {
      "needs_background": "light"
     },
     "output_type": "display_data"
    }
   ],
   "source": [
    "plt.figure(figsize=(20,20))\n",
    "sns.barplot(data=train_set,x='Exchange',y='quantity',estimator=sum)\n",
    "plt.show()"
   ]
  },
  {
   "cell_type": "code",
   "execution_count": 159,
   "id": "bc83a560",
   "metadata": {},
   "outputs": [
    {
     "data": {
      "image/png": "[encoded data removed]",
      "text/plain": [
       "<Figure size 1440x1440 with 1 Axes>"
      ]
     },
     "metadata": {
      "needs_background": "light"
     },
     "output_type": "display_data"
    }
   ],
   "source": [
    "plt.figure(figsize=(20,20))\n",
    "ax=sns.barplot(data=train_set,x='Exchange',y='total_amount',estimator=sum)\n",
    "ax.bar_label(ax.containers[0], fontsize=10);"
   ]
  },
  {
   "cell_type": "code",
   "execution_count": null,
   "id": "8135c36e",
   "metadata": {},
   "outputs": [],
   "source": []
  }
 ],
 "metadata": {
  "kernelspec": {
   "display_name": "Python 3 (ipykernel)",
   "language": "python",
   "name": "python3"
  },
  "language_info": {
   "codemirror_mode": {
    "name": "ipython",
    "version": 3
   },
   "file_extension": ".py",
   "mimetype": "text/x-python",
   "name": "python",
   "nbconvert_exporter": "python",
   "pygments_lexer": "ipython3",
   "version": "3.9.12"
  }
 },
 "nbformat": 4,
 "nbformat_minor": 5
}
