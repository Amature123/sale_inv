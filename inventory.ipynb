{
 "cells": [
  {
   "cell_type": "code",
   "execution_count": 3,
   "id": "939312cf",
   "metadata": {},
   "outputs": [],
   "source": [
    "import pandas as pd\n",
    "import seaborn as sns\n",
    "import matplotlib.pyplot as plt\n",
    "import numpy as np\n",
    "from sklearn.impute import SimpleImputer\n",
    "from sklearn.model_selection import train_test_split"
   ]
  },
  {
   "cell_type": "code",
   "execution_count": 4,
   "id": "2b3d4124",
   "metadata": {},
   "outputs": [],
   "source": [
    "path='/Users/thanhtainguyen/Desktop/Untitled Folder 1/InventoryAndSale_snapshot_data/Inventory_snapshot_data/Inventory_2022.xlsx'"
   ]
  },
  {
   "cell_type": "markdown",
   "id": "e9cf1dbf",
   "metadata": {},
   "source": [
    "Get all the shits"
   ]
  },
  {
   "cell_type": "code",
   "execution_count": 5,
   "id": "2c3212fa",
   "metadata": {},
   "outputs": [
    {
     "name": "stdout",
     "output_type": "stream",
     "text": [
      "['31-01', '28-02', '31-03', '30-04', '31-05', '30-06', '31-07', '31-08', '30-09', '31-10', '30-11', '31-12', 'Sheet1']\n"
     ]
    }
   ],
   "source": [
    "inventory=pd.ExcelFile(path)\n",
    "inventories=inventory.sheet_names\n",
    "print(inventories)"
   ]
  },
  {
   "cell_type": "code",
   "execution_count": 6,
   "id": "2d1d5b41",
   "metadata": {},
   "outputs": [
    {
     "name": "stdout",
     "output_type": "stream",
     "text": [
      "<class 'pandas.core.frame.DataFrame'>\n",
      "Int64Index: 1367080 entries, 0 to 50109\n",
      "Data columns (total 10 columns):\n",
      " #   Column              Non-Null Count    Dtype  \n",
      "---  ------              --------------    -----  \n",
      " 0   Unnamed: 0          1367080 non-null  float64\n",
      " 1   index               1367080 non-null  float64\n",
      " 2   plant               1367080 non-null  float64\n",
      " 3   calendar_year       1367080 non-null  float64\n",
      " 4   calendar_yeer_week  1367080 non-null  float64\n",
      " 5   sloc                1367080 non-null  object \n",
      " 6   quantity            1367080 non-null  float64\n",
      " 7   total_amount        1367080 non-null  float64\n",
      " 8   product_id          1367080 non-null  object \n",
      " 9   Exchange            1367080 non-null  object \n",
      "dtypes: float64(7), object(3)\n",
      "memory usage: 114.7+ MB\n"
     ]
    }
   ],
   "source": [
    "listings=[]\n",
    "for exchange in inventories:\n",
    "    listing = pd.read_excel(inventory, sheet_name=exchange, na_values='n/a')\n",
    "    listing['Exchange'] = exchange\n",
    "    listings.append(listing)\n",
    "# Concatenate the listings: listing_data\n",
    "listing_data = pd.concat(listings)\n",
    "\n",
    "# Inspect the results\n",
    "listing_data.info()\n"
   ]
  },
  {
   "cell_type": "code",
   "execution_count": 7,
   "id": "1a278046",
   "metadata": {},
   "outputs": [],
   "source": [
    "train_inv_set , test_inv_set = train_test_split(listing_data,test_size=0.4,random_state=42)"
   ]
  },
  {
   "cell_type": "code",
   "execution_count": 8,
   "id": "0893dab8",
   "metadata": {},
   "outputs": [
    {
     "data": {
      "text/plain": [
       "Index(['Unnamed: 0', 'index', 'plant', 'calendar_year', 'calendar_yeer_week',\n",
       "       'sloc', 'quantity', 'total_amount', 'product_id', 'Exchange'],\n",
       "      dtype='object')"
      ]
     },
     "execution_count": 8,
     "metadata": {},
     "output_type": "execute_result"
    }
   ],
   "source": [
    "train_inv_set.columns"
   ]
  },
  {
   "cell_type": "code",
   "execution_count": 9,
   "id": "7acbcbbe",
   "metadata": {},
   "outputs": [
    {
     "data": {
      "text/html": [
       "<div>\n",
       "<style scoped>\n",
       "    .dataframe tbody tr th:only-of-type {\n",
       "        vertical-align: middle;\n",
       "    }\n",
       "\n",
       "    .dataframe tbody tr th {\n",
       "        vertical-align: top;\n",
       "    }\n",
       "\n",
       "    .dataframe thead th {\n",
       "        text-align: right;\n",
       "    }\n",
       "</style>\n",
       "<table border=\"1\" class=\"dataframe\">\n",
       "  <thead>\n",
       "    <tr style=\"text-align: right;\">\n",
       "      <th></th>\n",
       "      <th>plant</th>\n",
       "      <th>calendar_year</th>\n",
       "      <th>calendar_yeer_week</th>\n",
       "      <th>sloc</th>\n",
       "      <th>quantity</th>\n",
       "      <th>total_amount</th>\n",
       "      <th>product_id</th>\n",
       "      <th>Exchange</th>\n",
       "    </tr>\n",
       "  </thead>\n",
       "  <tbody>\n",
       "    <tr>\n",
       "      <th>158417</th>\n",
       "      <td>1239.0</td>\n",
       "      <td>2022.0</td>\n",
       "      <td>20220531.0</td>\n",
       "      <td>3000</td>\n",
       "      <td>1.0</td>\n",
       "      <td>0.0</td>\n",
       "      <td>25264dfacde645c58c2060c125172ff1VAG36</td>\n",
       "      <td>31-05</td>\n",
       "    </tr>\n",
       "    <tr>\n",
       "      <th>30161</th>\n",
       "      <td>1204.0</td>\n",
       "      <td>2022.0</td>\n",
       "      <td>20220331.0</td>\n",
       "      <td>3000</td>\n",
       "      <td>2.0</td>\n",
       "      <td>0.0</td>\n",
       "      <td>e9fe5e4fa1804678838b79fc252cbe52DOO29</td>\n",
       "      <td>31-03</td>\n",
       "    </tr>\n",
       "    <tr>\n",
       "      <th>30206</th>\n",
       "      <td>1204.0</td>\n",
       "      <td>2022.0</td>\n",
       "      <td>20221231.0</td>\n",
       "      <td>3000</td>\n",
       "      <td>4.0</td>\n",
       "      <td>0.0</td>\n",
       "      <td>7d02ace5174245faad535b64a4025602XAM43</td>\n",
       "      <td>31-12</td>\n",
       "    </tr>\n",
       "    <tr>\n",
       "      <th>42415</th>\n",
       "      <td>1209.0</td>\n",
       "      <td>2022.0</td>\n",
       "      <td>20221130.0</td>\n",
       "      <td>3000</td>\n",
       "      <td>1.0</td>\n",
       "      <td>0.0</td>\n",
       "      <td>3d884f7c01b04e069cdddd1b82692985HOG31</td>\n",
       "      <td>30-11</td>\n",
       "    </tr>\n",
       "    <tr>\n",
       "      <th>19732</th>\n",
       "      <td>1204.0</td>\n",
       "      <td>2022.0</td>\n",
       "      <td>20220531.0</td>\n",
       "      <td>3000</td>\n",
       "      <td>1.0</td>\n",
       "      <td>0.0</td>\n",
       "      <td>71541ad5119a473da1c6040c998b2103XNH39</td>\n",
       "      <td>31-05</td>\n",
       "    </tr>\n",
       "  </tbody>\n",
       "</table>\n",
       "</div>"
      ],
      "text/plain": [
       "         plant  calendar_year  calendar_yeer_week  sloc  quantity  \\\n",
       "158417  1239.0         2022.0          20220531.0  3000       1.0   \n",
       "30161   1204.0         2022.0          20220331.0  3000       2.0   \n",
       "30206   1204.0         2022.0          20221231.0  3000       4.0   \n",
       "42415   1209.0         2022.0          20221130.0  3000       1.0   \n",
       "19732   1204.0         2022.0          20220531.0  3000       1.0   \n",
       "\n",
       "        total_amount                             product_id Exchange  \n",
       "158417           0.0  25264dfacde645c58c2060c125172ff1VAG36    31-05  \n",
       "30161            0.0  e9fe5e4fa1804678838b79fc252cbe52DOO29    31-03  \n",
       "30206            0.0  7d02ace5174245faad535b64a4025602XAM43    31-12  \n",
       "42415            0.0  3d884f7c01b04e069cdddd1b82692985HOG31    30-11  \n",
       "19732            0.0  71541ad5119a473da1c6040c998b2103XNH39    31-05  "
      ]
     },
     "execution_count": 9,
     "metadata": {},
     "output_type": "execute_result"
    }
   ],
   "source": [
    "train_inv_set.drop(['Unnamed: 0','index'],axis=1,inplace=True)\n",
    "train_inv_set.head()"
   ]
  },
  {
   "cell_type": "code",
   "execution_count": 10,
   "id": "61abc1d7",
   "metadata": {},
   "outputs": [
    {
     "data": {
      "text/html": [
       "<div>\n",
       "<style scoped>\n",
       "    .dataframe tbody tr th:only-of-type {\n",
       "        vertical-align: middle;\n",
       "    }\n",
       "\n",
       "    .dataframe tbody tr th {\n",
       "        vertical-align: top;\n",
       "    }\n",
       "\n",
       "    .dataframe thead th {\n",
       "        text-align: right;\n",
       "    }\n",
       "</style>\n",
       "<table border=\"1\" class=\"dataframe\">\n",
       "  <thead>\n",
       "    <tr style=\"text-align: right;\">\n",
       "      <th></th>\n",
       "      <th>quantity</th>\n",
       "      <th>total_amount</th>\n",
       "    </tr>\n",
       "  </thead>\n",
       "  <tbody>\n",
       "    <tr>\n",
       "      <th>count</th>\n",
       "      <td>820248.000000</td>\n",
       "      <td>8.202480e+05</td>\n",
       "    </tr>\n",
       "    <tr>\n",
       "      <th>mean</th>\n",
       "      <td>1.647502</td>\n",
       "      <td>5.939344e+04</td>\n",
       "    </tr>\n",
       "    <tr>\n",
       "      <th>std</th>\n",
       "      <td>2.076158</td>\n",
       "      <td>5.186968e+05</td>\n",
       "    </tr>\n",
       "    <tr>\n",
       "      <th>min</th>\n",
       "      <td>0.000000</td>\n",
       "      <td>-2.689808e+07</td>\n",
       "    </tr>\n",
       "    <tr>\n",
       "      <th>25%</th>\n",
       "      <td>1.000000</td>\n",
       "      <td>0.000000e+00</td>\n",
       "    </tr>\n",
       "    <tr>\n",
       "      <th>50%</th>\n",
       "      <td>1.000000</td>\n",
       "      <td>0.000000e+00</td>\n",
       "    </tr>\n",
       "    <tr>\n",
       "      <th>75%</th>\n",
       "      <td>2.000000</td>\n",
       "      <td>0.000000e+00</td>\n",
       "    </tr>\n",
       "    <tr>\n",
       "      <th>max</th>\n",
       "      <td>193.000000</td>\n",
       "      <td>5.198730e+07</td>\n",
       "    </tr>\n",
       "  </tbody>\n",
       "</table>\n",
       "</div>"
      ],
      "text/plain": [
       "            quantity  total_amount\n",
       "count  820248.000000  8.202480e+05\n",
       "mean        1.647502  5.939344e+04\n",
       "std         2.076158  5.186968e+05\n",
       "min         0.000000 -2.689808e+07\n",
       "25%         1.000000  0.000000e+00\n",
       "50%         1.000000  0.000000e+00\n",
       "75%         2.000000  0.000000e+00\n",
       "max       193.000000  5.198730e+07"
      ]
     },
     "execution_count": 10,
     "metadata": {},
     "output_type": "execute_result"
    }
   ],
   "source": [
    "train_inv_set[['quantity','total_amount']].describe()"
   ]
  },
  {
   "cell_type": "code",
   "execution_count": 11,
   "id": "71bd7003",
   "metadata": {},
   "outputs": [
    {
     "data": {
      "text/html": [
       "<div>\n",
       "<style scoped>\n",
       "    .dataframe tbody tr th:only-of-type {\n",
       "        vertical-align: middle;\n",
       "    }\n",
       "\n",
       "    .dataframe tbody tr th {\n",
       "        vertical-align: top;\n",
       "    }\n",
       "\n",
       "    .dataframe thead th {\n",
       "        text-align: right;\n",
       "    }\n",
       "</style>\n",
       "<table border=\"1\" class=\"dataframe\">\n",
       "  <thead>\n",
       "    <tr style=\"text-align: right;\">\n",
       "      <th></th>\n",
       "      <th>plant</th>\n",
       "      <th>calendar_year</th>\n",
       "      <th>calendar_yeer_week</th>\n",
       "      <th>sloc</th>\n",
       "      <th>quantity</th>\n",
       "      <th>total_amount</th>\n",
       "      <th>product_id</th>\n",
       "      <th>Exchange</th>\n",
       "    </tr>\n",
       "  </thead>\n",
       "  <tbody>\n",
       "    <tr>\n",
       "      <th>158417</th>\n",
       "      <td>1239.0</td>\n",
       "      <td>2022.0</td>\n",
       "      <td>2022-05-31</td>\n",
       "      <td>3000</td>\n",
       "      <td>1.0</td>\n",
       "      <td>0.0</td>\n",
       "      <td>25264dfacde645c58c2060c125172ff1VAG36</td>\n",
       "      <td>31-05</td>\n",
       "    </tr>\n",
       "    <tr>\n",
       "      <th>30161</th>\n",
       "      <td>1204.0</td>\n",
       "      <td>2022.0</td>\n",
       "      <td>2022-03-31</td>\n",
       "      <td>3000</td>\n",
       "      <td>2.0</td>\n",
       "      <td>0.0</td>\n",
       "      <td>e9fe5e4fa1804678838b79fc252cbe52DOO29</td>\n",
       "      <td>31-03</td>\n",
       "    </tr>\n",
       "    <tr>\n",
       "      <th>30206</th>\n",
       "      <td>1204.0</td>\n",
       "      <td>2022.0</td>\n",
       "      <td>2022-12-31</td>\n",
       "      <td>3000</td>\n",
       "      <td>4.0</td>\n",
       "      <td>0.0</td>\n",
       "      <td>7d02ace5174245faad535b64a4025602XAM43</td>\n",
       "      <td>31-12</td>\n",
       "    </tr>\n",
       "    <tr>\n",
       "      <th>42415</th>\n",
       "      <td>1209.0</td>\n",
       "      <td>2022.0</td>\n",
       "      <td>2022-11-30</td>\n",
       "      <td>3000</td>\n",
       "      <td>1.0</td>\n",
       "      <td>0.0</td>\n",
       "      <td>3d884f7c01b04e069cdddd1b82692985HOG31</td>\n",
       "      <td>30-11</td>\n",
       "    </tr>\n",
       "    <tr>\n",
       "      <th>19732</th>\n",
       "      <td>1204.0</td>\n",
       "      <td>2022.0</td>\n",
       "      <td>2022-05-31</td>\n",
       "      <td>3000</td>\n",
       "      <td>1.0</td>\n",
       "      <td>0.0</td>\n",
       "      <td>71541ad5119a473da1c6040c998b2103XNH39</td>\n",
       "      <td>31-05</td>\n",
       "    </tr>\n",
       "  </tbody>\n",
       "</table>\n",
       "</div>"
      ],
      "text/plain": [
       "         plant  calendar_year calendar_yeer_week  sloc  quantity  \\\n",
       "158417  1239.0         2022.0         2022-05-31  3000       1.0   \n",
       "30161   1204.0         2022.0         2022-03-31  3000       2.0   \n",
       "30206   1204.0         2022.0         2022-12-31  3000       4.0   \n",
       "42415   1209.0         2022.0         2022-11-30  3000       1.0   \n",
       "19732   1204.0         2022.0         2022-05-31  3000       1.0   \n",
       "\n",
       "        total_amount                             product_id Exchange  \n",
       "158417           0.0  25264dfacde645c58c2060c125172ff1VAG36    31-05  \n",
       "30161            0.0  e9fe5e4fa1804678838b79fc252cbe52DOO29    31-03  \n",
       "30206            0.0  7d02ace5174245faad535b64a4025602XAM43    31-12  \n",
       "42415            0.0  3d884f7c01b04e069cdddd1b82692985HOG31    30-11  \n",
       "19732            0.0  71541ad5119a473da1c6040c998b2103XNH39    31-05  "
      ]
     },
     "execution_count": 11,
     "metadata": {},
     "output_type": "execute_result"
    }
   ],
   "source": [
    "train_inv_set['calendar_yeer_week']=pd.to_datetime(train_inv_set['calendar_yeer_week'],format='%Y%m%d')\n",
    "train_inv_set.head()"
   ]
  },
  {
   "cell_type": "markdown",
   "id": "b865c394",
   "metadata": {},
   "source": [
    "#### the sloc column cotains 2 data types is string and integer so must convert it into 1 type \n",
    "#### also we must fullfill the data because it has # ,by using imputer"
   ]
  },
  {
   "cell_type": "code",
   "execution_count": 12,
   "id": "c8584af1",
   "metadata": {},
   "outputs": [],
   "source": [
    "imputer=SimpleImputer(missing_values = np.nan,strategy=\"most_frequent\")"
   ]
  },
  {
   "cell_type": "code",
   "execution_count": 13,
   "id": "ff32a608",
   "metadata": {},
   "outputs": [
    {
     "data": {
      "text/plain": [
       "3000    819676\n",
       "9999       558\n",
       "3007        14\n",
       "Name: sloc, dtype: int64"
      ]
     },
     "execution_count": 13,
     "metadata": {},
     "output_type": "execute_result"
    }
   ],
   "source": [
    "train_inv_set['sloc']=train_inv_set['sloc'].replace({\"#\": np.nan})\n",
    "train_inv_set['sloc']=imputer.fit_transform(train_inv_set[['sloc']]).ravel()\n",
    "train_inv_set['sloc']=train_inv_set['sloc'].apply(int)\n",
    "train_inv_set['sloc'].unique()\n",
    "train_inv_set['sloc'].value_counts()"
   ]
  },
  {
   "cell_type": "code",
   "execution_count": 14,
   "id": "8bdce0ba",
   "metadata": {},
   "outputs": [
    {
     "name": "stdout",
     "output_type": "stream",
     "text": [
      "<class 'pandas.core.frame.DataFrame'>\n",
      "Int64Index: 820248 entries, 158417 to 51048\n",
      "Data columns (total 8 columns):\n",
      " #   Column              Non-Null Count   Dtype         \n",
      "---  ------              --------------   -----         \n",
      " 0   plant               820248 non-null  category      \n",
      " 1   calendar_year       820248 non-null  category      \n",
      " 2   calendar_yeer_week  820248 non-null  datetime64[ns]\n",
      " 3   sloc                820248 non-null  category      \n",
      " 4   quantity            820248 non-null  float64       \n",
      " 5   total_amount        820248 non-null  float64       \n",
      " 6   product_id          820248 non-null  object        \n",
      " 7   Exchange            820248 non-null  object        \n",
      "dtypes: category(3), datetime64[ns](1), float64(2), object(2)\n",
      "memory usage: 39.9+ MB\n"
     ]
    }
   ],
   "source": [
    "feature=['plant','calendar_year','sloc']\n",
    "def convert(df,columns):\n",
    "    for column in columns :\n",
    "        df[column]=df[column].astype('category')\n",
    "convert(train_inv_set,feature)\n",
    "train_inv_set.info()"
   ]
  },
  {
   "cell_type": "code",
   "execution_count": 15,
   "id": "bad4cbad",
   "metadata": {},
   "outputs": [
    {
     "data": {
      "text/plain": [
       "0"
      ]
     },
     "execution_count": 15,
     "metadata": {},
     "output_type": "execute_result"
    }
   ],
   "source": [
    "train_inv_set['total_amount'].isna().sum()"
   ]
  },
  {
   "cell_type": "markdown",
   "id": "1506a516",
   "metadata": {},
   "source": [
    "#### total_amount is fullfill"
   ]
  },
  {
   "cell_type": "code",
   "execution_count": 16,
   "id": "13ed108b",
   "metadata": {},
   "outputs": [
    {
     "name": "stdout",
     "output_type": "stream",
     "text": [
      "25677\n"
     ]
    }
   ],
   "source": [
    "print(len(train_inv_set['product_id'].unique()))"
   ]
  },
  {
   "cell_type": "markdown",
   "id": "478d1d61",
   "metadata": {},
   "source": [
    "#### there are 26280 products in the inventory"
   ]
  },
  {
   "cell_type": "code",
   "execution_count": 17,
   "id": "2bde0f04",
   "metadata": {},
   "outputs": [
    {
     "name": "stdout",
     "output_type": "stream",
     "text": [
      "there are 1351360 products in the inventory\n",
      "these cost 48717352894 VND\n"
     ]
    }
   ],
   "source": [
    "print(\"there are %.0f products in the inventory\" % train_inv_set['quantity'].sum())\n",
    "print(\"these cost %.0f VND\" % train_inv_set['total_amount'].sum())"
   ]
  },
  {
   "cell_type": "code",
   "execution_count": 18,
   "id": "6cdd5646",
   "metadata": {},
   "outputs": [
    {
     "name": "stdout",
     "output_type": "stream",
     "text": [
      "quantity        0.0\n",
      "total_amount    0.0\n",
      "dtype: float64\n"
     ]
    }
   ],
   "source": [
    "check_negative=train_inv_set[train_inv_set['quantity']<0]\n",
    "print(check_negative.sum(numeric_only=True))"
   ]
  },
  {
   "cell_type": "markdown",
   "id": "53a357bf",
   "metadata": {},
   "source": [
    "### there are no negative in stock value"
   ]
  },
  {
   "cell_type": "code",
   "execution_count": 19,
   "id": "1d3da75d",
   "metadata": {},
   "outputs": [
    {
     "data": {
      "text/html": [
       "<div>\n",
       "<style scoped>\n",
       "    .dataframe tbody tr th:only-of-type {\n",
       "        vertical-align: middle;\n",
       "    }\n",
       "\n",
       "    .dataframe tbody tr th {\n",
       "        vertical-align: top;\n",
       "    }\n",
       "\n",
       "    .dataframe thead th {\n",
       "        text-align: right;\n",
       "    }\n",
       "</style>\n",
       "<table border=\"1\" class=\"dataframe\">\n",
       "  <thead>\n",
       "    <tr style=\"text-align: right;\">\n",
       "      <th></th>\n",
       "      <th>plant</th>\n",
       "      <th>calendar_year</th>\n",
       "      <th>calendar_yeer_week</th>\n",
       "      <th>sloc</th>\n",
       "      <th>quantity</th>\n",
       "      <th>total_amount</th>\n",
       "      <th>product_id</th>\n",
       "      <th>Exchange</th>\n",
       "    </tr>\n",
       "  </thead>\n",
       "  <tbody>\n",
       "    <tr>\n",
       "      <th>13659</th>\n",
       "      <td>1202.0</td>\n",
       "      <td>2022.0</td>\n",
       "      <td>2022-01-31</td>\n",
       "      <td>3000</td>\n",
       "      <td>1.0</td>\n",
       "      <td>0.0</td>\n",
       "      <td>7ae5884353114beb95178b2162659558HOG30</td>\n",
       "      <td>31-01</td>\n",
       "    </tr>\n",
       "    <tr>\n",
       "      <th>7311</th>\n",
       "      <td>1201.0</td>\n",
       "      <td>2022.0</td>\n",
       "      <td>2022-01-31</td>\n",
       "      <td>3000</td>\n",
       "      <td>2.0</td>\n",
       "      <td>0.0</td>\n",
       "      <td>475db8befa6244968f0519b5d81a1863NAD40</td>\n",
       "      <td>31-01</td>\n",
       "    </tr>\n",
       "    <tr>\n",
       "      <th>49855</th>\n",
       "      <td>1207.0</td>\n",
       "      <td>2022.0</td>\n",
       "      <td>2022-01-31</td>\n",
       "      <td>3000</td>\n",
       "      <td>2.0</td>\n",
       "      <td>0.0</td>\n",
       "      <td>38f7f4c8951a486594eca15177cd55d7NAU41</td>\n",
       "      <td>31-01</td>\n",
       "    </tr>\n",
       "    <tr>\n",
       "      <th>66164</th>\n",
       "      <td>1209.0</td>\n",
       "      <td>2022.0</td>\n",
       "      <td>2022-01-31</td>\n",
       "      <td>3000</td>\n",
       "      <td>1.0</td>\n",
       "      <td>0.0</td>\n",
       "      <td>34b8b25112424492aa99a0cacc53ac9fDEN25</td>\n",
       "      <td>31-01</td>\n",
       "    </tr>\n",
       "    <tr>\n",
       "      <th>15381</th>\n",
       "      <td>1202.0</td>\n",
       "      <td>2022.0</td>\n",
       "      <td>2022-01-31</td>\n",
       "      <td>3000</td>\n",
       "      <td>1.0</td>\n",
       "      <td>0.0</td>\n",
       "      <td>86cb80b6507c48f099b7b10f0a148c17DOO28</td>\n",
       "      <td>31-01</td>\n",
       "    </tr>\n",
       "  </tbody>\n",
       "</table>\n",
       "</div>"
      ],
      "text/plain": [
       "        plant calendar_year calendar_yeer_week  sloc  quantity  total_amount  \\\n",
       "13659  1202.0        2022.0         2022-01-31  3000       1.0           0.0   \n",
       "7311   1201.0        2022.0         2022-01-31  3000       2.0           0.0   \n",
       "49855  1207.0        2022.0         2022-01-31  3000       2.0           0.0   \n",
       "66164  1209.0        2022.0         2022-01-31  3000       1.0           0.0   \n",
       "15381  1202.0        2022.0         2022-01-31  3000       1.0           0.0   \n",
       "\n",
       "                                  product_id Exchange  \n",
       "13659  7ae5884353114beb95178b2162659558HOG30    31-01  \n",
       "7311   475db8befa6244968f0519b5d81a1863NAD40    31-01  \n",
       "49855  38f7f4c8951a486594eca15177cd55d7NAU41    31-01  \n",
       "66164  34b8b25112424492aa99a0cacc53ac9fDEN25    31-01  \n",
       "15381  86cb80b6507c48f099b7b10f0a148c17DOO28    31-01  "
      ]
     },
     "execution_count": 19,
     "metadata": {},
     "output_type": "execute_result"
    }
   ],
   "source": [
    "train_inv_set.sort_values(by='calendar_yeer_week',ascending=True,inplace=True)\n",
    "train_inv_set.head()"
   ]
  },
  {
   "cell_type": "code",
   "execution_count": 21,
   "id": "c7ead09d",
   "metadata": {},
   "outputs": [
    {
     "data": {
      "image/png": "[encoded data removed]",
      "text/plain": [
       "<Figure size 1440x1440 with 1 Axes>"
      ]
     },
     "metadata": {
      "needs_background": "light"
     },
     "output_type": "display_data"
    }
   ],
   "source": [
    "plt.figure(figsize=(20,20))\n",
    "sns.barplot(data=train_inv_set,x='Exchange',y='quantity',estimator=sum)\n",
    "plt.show()"
   ]
  },
  {
   "cell_type": "code",
   "execution_count": 22,
   "id": "bc83a560",
   "metadata": {},
   "outputs": [
    {
     "data": {
      "image/png": "[encoded data removed]",
      "text/plain": [
       "<Figure size 1440x1440 with 1 Axes>"
      ]
     },
     "metadata": {
      "needs_background": "light"
     },
     "output_type": "display_data"
    }
   ],
   "source": [
    "plt.figure(figsize=(20,20))\n",
    "ax=sns.barplot(data=train_inv_set,x='Exchange',y='total_amount',estimator=sum)\n",
    "ax.bar_label(ax.containers[0], fontsize=10);"
   ]
  },
  {
   "cell_type": "code",
   "execution_count": null,
   "id": "8135c36e",
   "metadata": {},
   "outputs": [],
   "source": []
  }
 ],
 "metadata": {
  "kernelspec": {
   "display_name": "Python 3 (ipykernel)",
   "language": "python",
   "name": "python3"
  },
  "language_info": {
   "codemirror_mode": {
    "name": "ipython",
    "version": 3
   },
   "file_extension": ".py",
   "mimetype": "text/x-python",
   "name": "python",
   "nbconvert_exporter": "python",
   "pygments_lexer": "ipython3",
   "version": "3.9.12"
  }
 },
 "nbformat": 4,
 "nbformat_minor": 5
}
