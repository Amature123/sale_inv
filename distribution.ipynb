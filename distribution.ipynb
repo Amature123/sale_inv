{
 "cells": [
  {
   "cell_type": "code",
   "execution_count": 2,
   "id": "a2011b1c",
   "metadata": {},
   "outputs": [],
   "source": [
    "import pandas as pd\n",
    "import numpy as np \n",
    "import matplotlib.pyplot as plt\n",
    "import seaborn as sns"
   ]
  },
  {
   "cell_type": "code",
   "execution_count": 3,
   "id": "3981c07d",
   "metadata": {},
   "outputs": [],
   "source": [
    "path='/Users/thanhtainguyen/Desktop/sale_and_inv/InventoryAndSale_snapshot_data/MasterData/Distribution Channel.xlsx'\n"
   ]
  },
  {
   "cell_type": "code",
   "execution_count": 4,
   "id": "f93a04b0",
   "metadata": {},
   "outputs": [
    {
     "data": {
      "text/html": [
       "<div>\n",
       "<style scoped>\n",
       "    .dataframe tbody tr th:only-of-type {\n",
       "        vertical-align: middle;\n",
       "    }\n",
       "\n",
       "    .dataframe tbody tr th {\n",
       "        vertical-align: top;\n",
       "    }\n",
       "\n",
       "    .dataframe thead th {\n",
       "        text-align: right;\n",
       "    }\n",
       "</style>\n",
       "<table border=\"1\" class=\"dataframe\">\n",
       "  <thead>\n",
       "    <tr style=\"text-align: right;\">\n",
       "      <th></th>\n",
       "      <th>Unnamed: 0</th>\n",
       "      <th>index</th>\n",
       "      <th>site_store</th>\n",
       "      <th>b2b_b2c</th>\n",
       "      <th>channel_id</th>\n",
       "      <th>region</th>\n",
       "      <th>city_level</th>\n",
       "      <th>store_concept</th>\n",
       "      <th>trade_term</th>\n",
       "      <th>area_range</th>\n",
       "      <th>...</th>\n",
       "      <th>address_3</th>\n",
       "      <th>showroom_area</th>\n",
       "      <th>warehouse_area</th>\n",
       "      <th>start_month</th>\n",
       "      <th>start_year</th>\n",
       "      <th>end_month</th>\n",
       "      <th>end_year</th>\n",
       "      <th>note</th>\n",
       "      <th>customer_id</th>\n",
       "      <th>customer_name</th>\n",
       "    </tr>\n",
       "  </thead>\n",
       "  <tbody>\n",
       "    <tr>\n",
       "      <th>0</th>\n",
       "      <td>0</td>\n",
       "      <td>0</td>\n",
       "      <td>60000003</td>\n",
       "      <td>B2B</td>\n",
       "      <td>ST</td>\n",
       "      <td>KVMN</td>\n",
       "      <td>Cấp TW</td>\n",
       "      <td>Cửa hàng của các siêu thị</td>\n",
       "      <td>Mua đứt bán đoạn</td>\n",
       "      <td>NaN</td>\n",
       "      <td>...</td>\n",
       "      <td>HCM</td>\n",
       "      <td>NaN</td>\n",
       "      <td>NaN</td>\n",
       "      <td>8</td>\n",
       "      <td>2010</td>\n",
       "      <td>NaN</td>\n",
       "      <td>NaN</td>\n",
       "      <td>NaN</td>\n",
       "      <td>435043cf9</td>\n",
       "      <td>customer878</td>\n",
       "    </tr>\n",
       "    <tr>\n",
       "      <th>1</th>\n",
       "      <td>1</td>\n",
       "      <td>1</td>\n",
       "      <td>60000006</td>\n",
       "      <td>B2B</td>\n",
       "      <td>ST</td>\n",
       "      <td>KVMN</td>\n",
       "      <td>Cấp 2</td>\n",
       "      <td>Cửa hàng của các siêu thị</td>\n",
       "      <td>Mua đứt bán đoạn</td>\n",
       "      <td>NaN</td>\n",
       "      <td>...</td>\n",
       "      <td>ĐNI</td>\n",
       "      <td>NaN</td>\n",
       "      <td>NaN</td>\n",
       "      <td>8</td>\n",
       "      <td>2010</td>\n",
       "      <td>NaN</td>\n",
       "      <td>NaN</td>\n",
       "      <td>NaN</td>\n",
       "      <td>db3c83bfa</td>\n",
       "      <td>customer904</td>\n",
       "    </tr>\n",
       "    <tr>\n",
       "      <th>2</th>\n",
       "      <td>2</td>\n",
       "      <td>2</td>\n",
       "      <td>60000007</td>\n",
       "      <td>B2B</td>\n",
       "      <td>ST</td>\n",
       "      <td>KVMN</td>\n",
       "      <td>Cấp TW</td>\n",
       "      <td>Cửa hàng của các siêu thị</td>\n",
       "      <td>Mua đứt bán đoạn</td>\n",
       "      <td>NaN</td>\n",
       "      <td>...</td>\n",
       "      <td>HCM</td>\n",
       "      <td>NaN</td>\n",
       "      <td>NaN</td>\n",
       "      <td>8</td>\n",
       "      <td>2010</td>\n",
       "      <td>NaN</td>\n",
       "      <td>NaN</td>\n",
       "      <td>NaN</td>\n",
       "      <td>f9bd8e994</td>\n",
       "      <td>customer1213</td>\n",
       "    </tr>\n",
       "    <tr>\n",
       "      <th>3</th>\n",
       "      <td>3</td>\n",
       "      <td>3</td>\n",
       "      <td>60000008</td>\n",
       "      <td>B2B</td>\n",
       "      <td>ST</td>\n",
       "      <td>KVMN</td>\n",
       "      <td>Cấp TW</td>\n",
       "      <td>Cửa hàng của các siêu thị</td>\n",
       "      <td>Mua đứt bán đoạn</td>\n",
       "      <td>NaN</td>\n",
       "      <td>...</td>\n",
       "      <td>HCM</td>\n",
       "      <td>NaN</td>\n",
       "      <td>NaN</td>\n",
       "      <td>8</td>\n",
       "      <td>2010</td>\n",
       "      <td>NaN</td>\n",
       "      <td>NaN</td>\n",
       "      <td>NaN</td>\n",
       "      <td>c6fb2b695</td>\n",
       "      <td>customer1792</td>\n",
       "    </tr>\n",
       "    <tr>\n",
       "      <th>4</th>\n",
       "      <td>4</td>\n",
       "      <td>4</td>\n",
       "      <td>60000534</td>\n",
       "      <td>B2B</td>\n",
       "      <td>ST</td>\n",
       "      <td>KVMN</td>\n",
       "      <td>Cấp TW</td>\n",
       "      <td>Cửa hàng của các siêu thị</td>\n",
       "      <td>Mua đứt bán đoạn</td>\n",
       "      <td>NaN</td>\n",
       "      <td>...</td>\n",
       "      <td>HCM</td>\n",
       "      <td>NaN</td>\n",
       "      <td>NaN</td>\n",
       "      <td>8</td>\n",
       "      <td>2010</td>\n",
       "      <td>NaN</td>\n",
       "      <td>NaN</td>\n",
       "      <td>NaN</td>\n",
       "      <td>68be208f8</td>\n",
       "      <td>customer463</td>\n",
       "    </tr>\n",
       "  </tbody>\n",
       "</table>\n",
       "<p>5 rows × 24 columns</p>\n",
       "</div>"
      ],
      "text/plain": [
       "   Unnamed: 0  index  site_store b2b_b2c channel_id region city_level  \\\n",
       "0           0      0    60000003     B2B         ST   KVMN     Cấp TW   \n",
       "1           1      1    60000006     B2B         ST   KVMN      Cấp 2   \n",
       "2           2      2    60000007     B2B         ST   KVMN     Cấp TW   \n",
       "3           3      3    60000008     B2B         ST   KVMN     Cấp TW   \n",
       "4           4      4    60000534     B2B         ST   KVMN     Cấp TW   \n",
       "\n",
       "               store_concept        trade_term area_range  ... address_3  \\\n",
       "0  Cửa hàng của các siêu thị  Mua đứt bán đoạn        NaN  ...       HCM   \n",
       "1  Cửa hàng của các siêu thị  Mua đứt bán đoạn        NaN  ...       ĐNI   \n",
       "2  Cửa hàng của các siêu thị  Mua đứt bán đoạn        NaN  ...       HCM   \n",
       "3  Cửa hàng của các siêu thị  Mua đứt bán đoạn        NaN  ...       HCM   \n",
       "4  Cửa hàng của các siêu thị  Mua đứt bán đoạn        NaN  ...       HCM   \n",
       "\n",
       "  showroom_area warehouse_area start_month start_year end_month end_year note  \\\n",
       "0           NaN            NaN           8       2010       NaN      NaN  NaN   \n",
       "1           NaN            NaN           8       2010       NaN      NaN  NaN   \n",
       "2           NaN            NaN           8       2010       NaN      NaN  NaN   \n",
       "3           NaN            NaN           8       2010       NaN      NaN  NaN   \n",
       "4           NaN            NaN           8       2010       NaN      NaN  NaN   \n",
       "\n",
       "  customer_id customer_name  \n",
       "0   435043cf9   customer878  \n",
       "1   db3c83bfa   customer904  \n",
       "2   f9bd8e994  customer1213  \n",
       "3   c6fb2b695  customer1792  \n",
       "4   68be208f8   customer463  \n",
       "\n",
       "[5 rows x 24 columns]"
      ]
     },
     "execution_count": 4,
     "metadata": {},
     "output_type": "execute_result"
    }
   ],
   "source": [
    "distribution = pd.read_excel(path)\n",
    "distribution.head()"
   ]
  },
  {
   "cell_type": "code",
   "execution_count": 5,
   "id": "32c49fcf",
   "metadata": {},
   "outputs": [
    {
     "name": "stdout",
     "output_type": "stream",
     "text": [
      "<class 'pandas.core.frame.DataFrame'>\n",
      "RangeIndex: 3405 entries, 0 to 3404\n",
      "Data columns (total 24 columns):\n",
      " #   Column          Non-Null Count  Dtype \n",
      "---  ------          --------------  ----- \n",
      " 0   Unnamed: 0      3405 non-null   int64 \n",
      " 1   index           3405 non-null   int64 \n",
      " 2   site_store      3405 non-null   int64 \n",
      " 3   b2b_b2c         3405 non-null   object\n",
      " 4   channel_id      3405 non-null   object\n",
      " 5   region          3405 non-null   object\n",
      " 6   city_level      3405 non-null   object\n",
      " 7   store_concept   3403 non-null   object\n",
      " 8   trade_term      3405 non-null   object\n",
      " 9   area_range      464 non-null    object\n",
      " 10  store_type      3405 non-null   object\n",
      " 11  urbanization    3405 non-null   object\n",
      " 12  branch_area     3405 non-null   object\n",
      " 13  address_2       3403 non-null   object\n",
      " 14  address_3       3403 non-null   object\n",
      " 15  showroom_area   470 non-null    object\n",
      " 16  warehouse_area  456 non-null    object\n",
      " 17  start_month     3376 non-null   object\n",
      " 18  start_year      3376 non-null   object\n",
      " 19  end_month       1927 non-null   object\n",
      " 20  end_year        1941 non-null   object\n",
      " 21  note            49 non-null     object\n",
      " 22  customer_id     3405 non-null   object\n",
      " 23  customer_name   3405 non-null   object\n",
      "dtypes: int64(3), object(21)\n",
      "memory usage: 638.6+ KB\n"
     ]
    }
   ],
   "source": [
    "distribution.info()"
   ]
  },
  {
   "cell_type": "markdown",
   "id": "b1fe6d9e",
   "metadata": {},
   "source": [
    "### drop unnecessery data"
   ]
  },
  {
   "cell_type": "code",
   "execution_count": 6,
   "id": "bcfdf535",
   "metadata": {},
   "outputs": [],
   "source": [
    "distribution.drop(['Unnamed: 0','index'],axis=1,inplace=True)"
   ]
  },
  {
   "cell_type": "markdown",
   "id": "775fbe1e",
   "metadata": {},
   "source": [
    "### check null data"
   ]
  },
  {
   "cell_type": "code",
   "execution_count": 12,
   "id": "4029b0e4",
   "metadata": {},
   "outputs": [
    {
     "data": {
      "text/plain": [
       "site_store           0\n",
       "b2b_b2c              0\n",
       "channel_id           0\n",
       "region               0\n",
       "city_level           0\n",
       "store_concept        2\n",
       "trade_term           0\n",
       "area_range        2941\n",
       "store_type           0\n",
       "urbanization         0\n",
       "branch_area          0\n",
       "address_2            2\n",
       "address_3            2\n",
       "showroom_area     2935\n",
       "warehouse_area    2949\n",
       "start_month         29\n",
       "start_year          29\n",
       "end_month         1478\n",
       "end_year          1464\n",
       "note              3356\n",
       "customer_id          0\n",
       "customer_name        0\n",
       "dtype: int64"
      ]
     },
     "execution_count": 12,
     "metadata": {},
     "output_type": "execute_result"
    }
   ],
   "source": [
    "distribution.isna().sum()"
   ]
  },
  {
   "cell_type": "code",
   "execution_count": 7,
   "id": "4650840c",
   "metadata": {},
   "outputs": [
    {
     "data": {
      "text/plain": [
       "Đại lý                                                                  2255\n",
       "Cửa hàng B thông thường                                                  446\n",
       "Cửa hàng của các siêu thị                                                287\n",
       "Các mã khách bán lưu động, khách sĩ vãng lại và các mã khách cá nhân     222\n",
       "Cửa hàng chuyên doanh                                                    142\n",
       "Sàn thương mại điện tử (Tiki, Shopee, Lazada,…)                           14\n",
       "Cửa hàng B Premium                                                        13\n",
       "Cửa hàng B Special                                                        12\n",
       "Website bán hàng online của B                                              5\n",
       "Cửa hàng chuẩn                                                             4\n",
       "Cửa hàng chuyên kinh doanh các sản phẩm giảm giá                           3\n",
       "Name: store_concept, dtype: int64"
      ]
     },
     "execution_count": 7,
     "metadata": {},
     "output_type": "execute_result"
    }
   ],
   "source": [
    "distribution.store_concept.value_counts()"
   ]
  },
  {
   "cell_type": "code",
   "execution_count": 8,
   "id": "aeae06cc",
   "metadata": {},
   "outputs": [
    {
     "data": {
      "text/plain": [
       "100 m2 < và <= 150 m2    255\n",
       "50 m2 < và <= 100 m2     132\n",
       "150 m2 < và <= 200 m2     52\n",
       "> 200 m2                  14\n",
       "Closed                     8\n",
       "<= 50 m2                   3\n",
       "Name: area_range, dtype: int64"
      ]
     },
     "execution_count": 8,
     "metadata": {},
     "output_type": "execute_result"
    }
   ],
   "source": [
    "distribution.area_range.value_counts()"
   ]
  },
  {
   "cell_type": "code",
   "execution_count": 9,
   "id": "266f77a2",
   "metadata": {},
   "outputs": [
    {
     "data": {
      "text/plain": [
       "mở mới                                                                       6\n",
       "CLOSED                                                                       4\n",
       "Thanh lý  ngày 17.06.22.dời sang dịa chỉ khác khai trương ngày 15/07/2022    2\n",
       "CHUYỂN ĐỊA ĐIỂM KD MỚI KỂ TỪ NGÀY 01.01.2022                                 2\n",
       "Ban đầu là  site 1410 chuyển qua site 1262 từ ngày 01.03.2021                2\n",
       " Ban đầu là 1419 Chuyển qua site 1261                                        2\n",
       " Ban đầu là 1420 Chuyển qua site 1260                                        2\n",
       " Ban đầu là 1414 Chuyển qua MB site 1259 từ ngày 01.03.2021                  2\n",
       "Ban đầu là  site 1403 chuyển qua site 1258 từ ngày 01.03.2021                2\n",
       "bị lấy lại mb chờ tìm mở thay thế                                            2\n",
       "CHUYỂN QUA SITE 1418 RỒI                                                     2\n",
       "DO DI DỜI ĐỊA ĐIỂM KHÁC NÊN TÁI KHAI TRƯƠNG 22.02.23                         2\n",
       "close                                                                        2\n",
       "Thanh lý  dời sang dịa chỉ khác khai trương ngày28/08/2022                   2\n",
       "chuyển qua site 1260                                                         2\n",
       "chuyển qua site 1261                                                         2\n",
       " Ban đầu là 1801 Chuyển qua site 1418                                        2\n",
       "chuyển qua site 1262                                                         2\n",
       "chuyển qua site 1258                                                         2\n",
       "new                                                                          2\n",
       "mở thay thế                                                                  2\n",
       "chuyển qua site 1259                                                         1\n",
       "Name: note, dtype: int64"
      ]
     },
     "execution_count": 9,
     "metadata": {},
     "output_type": "execute_result"
    }
   ],
   "source": [
    "distribution.note.value_counts()"
   ]
  },
  {
   "cell_type": "code",
   "execution_count": 10,
   "id": "c80f288b",
   "metadata": {},
   "outputs": [
    {
     "data": {
      "text/plain": [
       "CNMN        1089\n",
       "CNMB         999\n",
       "CNMTR-TN     713\n",
       "CNMT         435\n",
       "CNLC         132\n",
       "CNTP          23\n",
       "CNCA          14\n",
       "Name: branch_area, dtype: int64"
      ]
     },
     "execution_count": 10,
     "metadata": {},
     "output_type": "execute_result"
    }
   ],
   "source": [
    "distribution.branch_area.value_counts()"
   ]
  },
  {
   "cell_type": "markdown",
   "id": "836f0837",
   "metadata": {},
   "source": [
    "### cause there are so much missing value the relate with object type data , to solve this , we can use fillna in pandas library , we could use Imputer too , but since there are many null data in many columns , sometime it could lead to bias"
   ]
  },
  {
   "cell_type": "code",
   "execution_count": 14,
   "id": "58750f65",
   "metadata": {},
   "outputs": [],
   "source": [
    "distribution.fillna('Khác',inplace=True)"
   ]
  },
  {
   "cell_type": "code",
   "execution_count": 15,
   "id": "884c0592",
   "metadata": {},
   "outputs": [
    {
     "data": {
      "text/plain": [
       "site_store        0\n",
       "b2b_b2c           0\n",
       "channel_id        0\n",
       "region            0\n",
       "city_level        0\n",
       "store_concept     0\n",
       "trade_term        0\n",
       "area_range        0\n",
       "store_type        0\n",
       "urbanization      0\n",
       "branch_area       0\n",
       "address_2         0\n",
       "address_3         0\n",
       "showroom_area     0\n",
       "warehouse_area    0\n",
       "start_month       0\n",
       "start_year        0\n",
       "end_month         0\n",
       "end_year          0\n",
       "note              0\n",
       "customer_id       0\n",
       "customer_name     0\n",
       "dtype: int64"
      ]
     },
     "execution_count": 15,
     "metadata": {},
     "output_type": "execute_result"
    }
   ],
   "source": [
    "distribution.isna().sum()"
   ]
  },
  {
   "cell_type": "code",
   "execution_count": 17,
   "id": "738263cb",
   "metadata": {},
   "outputs": [
    {
     "data": {
      "text/plain": [
       "Closed    1622\n",
       "HCM        328\n",
       "HNI        215\n",
       "ĐNI         50\n",
       "BDG         46\n",
       "          ... \n",
       "LCU          3\n",
       "YBI          3\n",
       "CBG          2\n",
       "Khác         2\n",
       "BKN          1\n",
       "Name: address_3, Length: 67, dtype: int64"
      ]
     },
     "execution_count": 17,
     "metadata": {},
     "output_type": "execute_result"
    }
   ],
   "source": [
    "distribution.address_3.value_counts()"
   ]
  },
  {
   "cell_type": "code",
   "execution_count": 19,
   "id": "71957f84",
   "metadata": {},
   "outputs": [
    {
     "name": "stdout",
     "output_type": "stream",
     "text": [
      "67\n"
     ]
    }
   ],
   "source": [
    "print(len(distribution.address_3.unique()))"
   ]
  },
  {
   "cell_type": "markdown",
   "id": "6bffd238",
   "metadata": {},
   "source": []
  }
 ],
 "metadata": {
  "kernelspec": {
   "display_name": "Python 3 (ipykernel)",
   "language": "python",
   "name": "python3"
  },
  "language_info": {
   "codemirror_mode": {
    "name": "ipython",
    "version": 3
   },
   "file_extension": ".py",
   "mimetype": "text/x-python",
   "name": "python",
   "nbconvert_exporter": "python",
   "pygments_lexer": "ipython3",
   "version": "3.9.12"
  }
 },
 "nbformat": 4,
 "nbformat_minor": 5
}
